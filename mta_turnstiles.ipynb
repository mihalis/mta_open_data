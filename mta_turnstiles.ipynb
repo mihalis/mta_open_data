{
 "cells": [
  {
   "cell_type": "code",
   "execution_count": 2,
   "metadata": {
    "collapsed": true
   },
   "outputs": [],
   "source": [
    "import pandas as pd\n",
    "#import geopandas as gpd\n",
    "import matplotlib.pyplot as plt \n",
    "import matplotlib as mpl \n",
    "import os \n",
    "import numpy as np\n",
    "\n",
    "%matplotlib inline"
   ]
  },
  {
   "cell_type": "code",
   "execution_count": 19,
   "metadata": {
    "collapsed": true
   },
   "outputs": [],
   "source": [
    "prjFolder = \"/Users/michailxyntarakis/opendata/mta/turnstile/\"\n",
    "prjFolder = \".\""
   ]
  },
  {
   "cell_type": "code",
   "execution_count": 20,
   "metadata": {},
   "outputs": [
    {
     "name": "stderr",
     "output_type": "stream",
     "text": [
      "'ls' is not recognized as an internal or external command,\n",
      "operable program or batch file.\n"
     ]
    }
   ],
   "source": [
    "!ls \"/Users/michailxyntarakis/opendata/mta/turnstile/\""
   ]
  },
  {
   "cell_type": "markdown",
   "metadata": {},
   "source": [
    "### Setting the column names of the csv file overcomes some peculiarities in the csv header"
   ]
  },
  {
   "cell_type": "code",
   "execution_count": 21,
   "metadata": {},
   "outputs": [
    {
     "data": {
      "text/plain": [
       "'C/A,UNIT,SCP,STATION,LINENAME,DIVISION,DATE,TIME,DESC,ENTRIES,EXITS'"
      ]
     },
     "execution_count": 21,
     "metadata": {},
     "output_type": "execute_result"
    }
   ],
   "source": [
    "col_names = ['C/A', u'UNIT', u'SCP', u'STATION', u'LINENAME', u'DIVISION', u'DATE',\n",
    "       u'TIME', u'DESC', u'ENTRIES',\n",
    "       u'EXITS']\n",
    "\",\".join(col_names)"
   ]
  },
  {
   "cell_type": "markdown",
   "metadata": {},
   "source": [
    "## Load a small portion of the dataset to understand its properties"
   ]
  },
  {
   "cell_type": "code",
   "execution_count": 22,
   "metadata": {
    "collapsed": true
   },
   "outputs": [],
   "source": [
    "df = pd.read_csv(os.path.join(prjFolder, \"turnstile_170701.txt\"), header=0, names=col_names)"
   ]
  },
  {
   "cell_type": "code",
   "execution_count": 23,
   "metadata": {},
   "outputs": [
    {
     "data": {
      "text/html": [
       "<div>\n",
       "<style>\n",
       "    .dataframe thead tr:only-child th {\n",
       "        text-align: right;\n",
       "    }\n",
       "\n",
       "    .dataframe thead th {\n",
       "        text-align: left;\n",
       "    }\n",
       "\n",
       "    .dataframe tbody tr th {\n",
       "        vertical-align: top;\n",
       "    }\n",
       "</style>\n",
       "<table border=\"1\" class=\"dataframe\">\n",
       "  <thead>\n",
       "    <tr style=\"text-align: right;\">\n",
       "      <th></th>\n",
       "      <th>C/A</th>\n",
       "      <th>UNIT</th>\n",
       "      <th>SCP</th>\n",
       "      <th>STATION</th>\n",
       "      <th>LINENAME</th>\n",
       "      <th>DIVISION</th>\n",
       "      <th>DATE</th>\n",
       "      <th>TIME</th>\n",
       "      <th>DESC</th>\n",
       "      <th>ENTRIES</th>\n",
       "      <th>EXITS</th>\n",
       "    </tr>\n",
       "  </thead>\n",
       "  <tbody>\n",
       "    <tr>\n",
       "      <th>0</th>\n",
       "      <td>A002</td>\n",
       "      <td>R051</td>\n",
       "      <td>02-00-00</td>\n",
       "      <td>59 ST</td>\n",
       "      <td>NQR456W</td>\n",
       "      <td>BMT</td>\n",
       "      <td>06/24/2017</td>\n",
       "      <td>00:00:00</td>\n",
       "      <td>REGULAR</td>\n",
       "      <td>6233682</td>\n",
       "      <td>2110437</td>\n",
       "    </tr>\n",
       "    <tr>\n",
       "      <th>1</th>\n",
       "      <td>A002</td>\n",
       "      <td>R051</td>\n",
       "      <td>02-00-00</td>\n",
       "      <td>59 ST</td>\n",
       "      <td>NQR456W</td>\n",
       "      <td>BMT</td>\n",
       "      <td>06/24/2017</td>\n",
       "      <td>04:00:00</td>\n",
       "      <td>REGULAR</td>\n",
       "      <td>6233696</td>\n",
       "      <td>2110445</td>\n",
       "    </tr>\n",
       "    <tr>\n",
       "      <th>2</th>\n",
       "      <td>A002</td>\n",
       "      <td>R051</td>\n",
       "      <td>02-00-00</td>\n",
       "      <td>59 ST</td>\n",
       "      <td>NQR456W</td>\n",
       "      <td>BMT</td>\n",
       "      <td>06/24/2017</td>\n",
       "      <td>08:00:00</td>\n",
       "      <td>REGULAR</td>\n",
       "      <td>6233712</td>\n",
       "      <td>2110473</td>\n",
       "    </tr>\n",
       "    <tr>\n",
       "      <th>3</th>\n",
       "      <td>A002</td>\n",
       "      <td>R051</td>\n",
       "      <td>02-00-00</td>\n",
       "      <td>59 ST</td>\n",
       "      <td>NQR456W</td>\n",
       "      <td>BMT</td>\n",
       "      <td>06/24/2017</td>\n",
       "      <td>12:00:00</td>\n",
       "      <td>REGULAR</td>\n",
       "      <td>6233790</td>\n",
       "      <td>2110560</td>\n",
       "    </tr>\n",
       "    <tr>\n",
       "      <th>4</th>\n",
       "      <td>A002</td>\n",
       "      <td>R051</td>\n",
       "      <td>02-00-00</td>\n",
       "      <td>59 ST</td>\n",
       "      <td>NQR456W</td>\n",
       "      <td>BMT</td>\n",
       "      <td>06/24/2017</td>\n",
       "      <td>16:00:00</td>\n",
       "      <td>REGULAR</td>\n",
       "      <td>6233942</td>\n",
       "      <td>2110622</td>\n",
       "    </tr>\n",
       "  </tbody>\n",
       "</table>\n",
       "</div>"
      ],
      "text/plain": [
       "    C/A  UNIT       SCP STATION LINENAME DIVISION        DATE      TIME  \\\n",
       "0  A002  R051  02-00-00   59 ST  NQR456W      BMT  06/24/2017  00:00:00   \n",
       "1  A002  R051  02-00-00   59 ST  NQR456W      BMT  06/24/2017  04:00:00   \n",
       "2  A002  R051  02-00-00   59 ST  NQR456W      BMT  06/24/2017  08:00:00   \n",
       "3  A002  R051  02-00-00   59 ST  NQR456W      BMT  06/24/2017  12:00:00   \n",
       "4  A002  R051  02-00-00   59 ST  NQR456W      BMT  06/24/2017  16:00:00   \n",
       "\n",
       "      DESC  ENTRIES    EXITS  \n",
       "0  REGULAR  6233682  2110437  \n",
       "1  REGULAR  6233696  2110445  \n",
       "2  REGULAR  6233712  2110473  \n",
       "3  REGULAR  6233790  2110560  \n",
       "4  REGULAR  6233942  2110622  "
      ]
     },
     "execution_count": 23,
     "metadata": {},
     "output_type": "execute_result"
    }
   ],
   "source": [
    "df.head()"
   ]
  },
  {
   "cell_type": "code",
   "execution_count": 8,
   "metadata": {},
   "outputs": [
    {
     "name": "stdout",
     "output_type": "stream",
     "text": [
      "<class 'pandas.core.frame.DataFrame'>\n",
      "RangeIndex: 197421 entries, 0 to 197420\n",
      "Data columns (total 11 columns):\n",
      "C/A         197421 non-null object\n",
      "UNIT        197421 non-null object\n",
      "SCP         197421 non-null object\n",
      "STATION     197421 non-null object\n",
      "LINENAME    197421 non-null object\n",
      "DIVISION    197421 non-null object\n",
      "DATE        197421 non-null object\n",
      "TIME        197421 non-null object\n",
      "DESC        197421 non-null object\n",
      "ENTRIES     197421 non-null int64\n",
      "EXITS       197421 non-null int64\n",
      "dtypes: int64(2), object(9)\n",
      "memory usage: 16.6+ MB\n"
     ]
    }
   ],
   "source": [
    "df.info()"
   ]
  },
  {
   "cell_type": "code",
   "execution_count": 10,
   "metadata": {},
   "outputs": [
    {
     "data": {
      "text/plain": [
       "C/A         0\n",
       "UNIT        0\n",
       "SCP         0\n",
       "STATION     0\n",
       "LINENAME    0\n",
       "DIVISION    0\n",
       "DATE        0\n",
       "TIME        0\n",
       "DESC        0\n",
       "ENTRIES     0\n",
       "EXITS       0\n",
       "dtype: int64"
      ]
     },
     "execution_count": 10,
     "metadata": {},
     "output_type": "execute_result"
    }
   ],
   "source": [
    "df.isnull().sum()"
   ]
  },
  {
   "cell_type": "markdown",
   "metadata": {},
   "source": [
    "### the dataset does not contain any null values which is a good thing. Most of the variables in are categorical strings. Only two are numeric"
   ]
  },
  {
   "cell_type": "code",
   "execution_count": 32,
   "metadata": {
    "collapsed": true
   },
   "outputs": [],
   "source": [
    "def describeCategorical(df, name):\n",
    "    \n",
    "    series = df[name]\n",
    "    numNull = series.isnull().sum()\n",
    "    numUnique = series.nunique()\n",
    "    \n",
    "    minNumCharacters = min(series.apply(lambda x:len(x)))\n",
    "    maxNumCharacters = max(series.apply(lambda x:len(x)))\n",
    "    \n",
    "    stats = pd.DataFrame(data=[numNull, numUnique, minNumCharacters, maxNumCharacters], \n",
    "                     index=['numNull', 'numUnique', 'minChars', 'maxChars'],\n",
    "                     columns=['stats'])\n",
    "    \n",
    "    stats.index.name = name \n",
    "    \n",
    "    return stats"
   ]
  },
  {
   "cell_type": "code",
   "execution_count": 33,
   "metadata": {},
   "outputs": [
    {
     "data": {
      "text/html": [
       "<div>\n",
       "<style>\n",
       "    .dataframe thead tr:only-child th {\n",
       "        text-align: right;\n",
       "    }\n",
       "\n",
       "    .dataframe thead th {\n",
       "        text-align: left;\n",
       "    }\n",
       "\n",
       "    .dataframe tbody tr th {\n",
       "        vertical-align: top;\n",
       "    }\n",
       "</style>\n",
       "<table border=\"1\" class=\"dataframe\">\n",
       "  <thead>\n",
       "    <tr style=\"text-align: right;\">\n",
       "      <th></th>\n",
       "      <th>stats</th>\n",
       "    </tr>\n",
       "    <tr>\n",
       "      <th>STATION</th>\n",
       "      <th></th>\n",
       "    </tr>\n",
       "  </thead>\n",
       "  <tbody>\n",
       "    <tr>\n",
       "      <th>numNull</th>\n",
       "      <td>0</td>\n",
       "    </tr>\n",
       "    <tr>\n",
       "      <th>numUnique</th>\n",
       "      <td>376</td>\n",
       "    </tr>\n",
       "    <tr>\n",
       "      <th>minChars</th>\n",
       "      <td>4</td>\n",
       "    </tr>\n",
       "    <tr>\n",
       "      <th>maxChars</th>\n",
       "      <td>15</td>\n",
       "    </tr>\n",
       "  </tbody>\n",
       "</table>\n",
       "</div>"
      ],
      "text/plain": [
       "           stats\n",
       "STATION         \n",
       "numNull        0\n",
       "numUnique    376\n",
       "minChars       4\n",
       "maxChars      15"
      ]
     },
     "execution_count": 33,
     "metadata": {},
     "output_type": "execute_result"
    }
   ],
   "source": [
    "describeCategorical(df, 'STATION')"
   ]
  },
  {
   "cell_type": "code",
   "execution_count": 53,
   "metadata": {
    "collapsed": true
   },
   "outputs": [],
   "source": [
    "def describeAllCategorical(df):\n",
    "\n",
    "    stringColumns = df.columns[df.dtypes == np.object]\n",
    "\n",
    "    result = [] \n",
    "    \n",
    "    for colName in stringColumns:\n",
    "        \n",
    "        r = describeCategorical(df, colName)\n",
    "        r.index.name = 'stats'\n",
    "        r.rename(columns={'stats':colName}, inplace=True)\n",
    "    \n",
    "        result.append(r)\n",
    "    \n",
    "    result = pd.concat(result, axis=1)\n",
    "    \n",
    "    return result\n",
    "    "
   ]
  },
  {
   "cell_type": "code",
   "execution_count": 54,
   "metadata": {},
   "outputs": [
    {
     "data": {
      "text/html": [
       "<div>\n",
       "<style>\n",
       "    .dataframe thead tr:only-child th {\n",
       "        text-align: right;\n",
       "    }\n",
       "\n",
       "    .dataframe thead th {\n",
       "        text-align: left;\n",
       "    }\n",
       "\n",
       "    .dataframe tbody tr th {\n",
       "        vertical-align: top;\n",
       "    }\n",
       "</style>\n",
       "<table border=\"1\" class=\"dataframe\">\n",
       "  <thead>\n",
       "    <tr style=\"text-align: right;\">\n",
       "      <th></th>\n",
       "      <th>C/A</th>\n",
       "      <th>UNIT</th>\n",
       "      <th>SCP</th>\n",
       "      <th>STATION</th>\n",
       "      <th>LINENAME</th>\n",
       "      <th>DIVISION</th>\n",
       "      <th>DATE</th>\n",
       "      <th>TIME</th>\n",
       "      <th>DESC</th>\n",
       "    </tr>\n",
       "    <tr>\n",
       "      <th>stats</th>\n",
       "      <th></th>\n",
       "      <th></th>\n",
       "      <th></th>\n",
       "      <th></th>\n",
       "      <th></th>\n",
       "      <th></th>\n",
       "      <th></th>\n",
       "      <th></th>\n",
       "      <th></th>\n",
       "    </tr>\n",
       "  </thead>\n",
       "  <tbody>\n",
       "    <tr>\n",
       "      <th>numNull</th>\n",
       "      <td>0</td>\n",
       "      <td>0</td>\n",
       "      <td>0</td>\n",
       "      <td>0</td>\n",
       "      <td>0</td>\n",
       "      <td>0</td>\n",
       "      <td>0</td>\n",
       "      <td>0</td>\n",
       "      <td>0</td>\n",
       "    </tr>\n",
       "    <tr>\n",
       "      <th>numUnique</th>\n",
       "      <td>732</td>\n",
       "      <td>466</td>\n",
       "      <td>230</td>\n",
       "      <td>376</td>\n",
       "      <td>114</td>\n",
       "      <td>6</td>\n",
       "      <td>7</td>\n",
       "      <td>11888</td>\n",
       "      <td>2</td>\n",
       "    </tr>\n",
       "    <tr>\n",
       "      <th>minChars</th>\n",
       "      <td>4</td>\n",
       "      <td>4</td>\n",
       "      <td>8</td>\n",
       "      <td>4</td>\n",
       "      <td>1</td>\n",
       "      <td>3</td>\n",
       "      <td>10</td>\n",
       "      <td>8</td>\n",
       "      <td>7</td>\n",
       "    </tr>\n",
       "    <tr>\n",
       "      <th>maxChars</th>\n",
       "      <td>5</td>\n",
       "      <td>4</td>\n",
       "      <td>8</td>\n",
       "      <td>15</td>\n",
       "      <td>12</td>\n",
       "      <td>3</td>\n",
       "      <td>10</td>\n",
       "      <td>8</td>\n",
       "      <td>10</td>\n",
       "    </tr>\n",
       "  </tbody>\n",
       "</table>\n",
       "</div>"
      ],
      "text/plain": [
       "           C/A  UNIT  SCP  STATION  LINENAME  DIVISION  DATE   TIME  DESC\n",
       "stats                                                                    \n",
       "numNull      0     0    0        0         0         0     0      0     0\n",
       "numUnique  732   466  230      376       114         6     7  11888     2\n",
       "minChars     4     4    8        4         1         3    10      8     7\n",
       "maxChars     5     4    8       15        12         3    10      8    10"
      ]
     },
     "execution_count": 54,
     "metadata": {},
     "output_type": "execute_result"
    }
   ],
   "source": [
    "describeAllCategorical(df)"
   ]
  },
  {
   "cell_type": "markdown",
   "metadata": {},
   "source": [
    "C/A      = Control Area (A002)\n",
    "UNIT     = Remote Unit for a station (R051)\n",
    "SCP      = Subunit Channel Position represents an specific address for a device (02-00-00)\n",
    "STATION  = Represents the station name the device is located at"
   ]
  },
  {
   "cell_type": "markdown",
   "metadata": {},
   "source": [
    "## The relationship between the variables C/A, UNIT, CSP is unclear. What combination of them defines singularly a turnstile? "
   ]
  },
  {
   "cell_type": "code",
   "execution_count": 55,
   "metadata": {},
   "outputs": [
    {
     "data": {
      "text/plain": [
       "34 ST-PENN STA     4127\n",
       "FULTON ST          4057\n",
       "23 ST              2981\n",
       "GRD CNTRL-42 ST    2744\n",
       "CANAL ST           2465\n",
       "Name: STATION, dtype: int64"
      ]
     },
     "execution_count": 55,
     "metadata": {},
     "output_type": "execute_result"
    }
   ],
   "source": [
    "df.STATION.value_counts().head()"
   ]
  },
  {
   "cell_type": "code",
   "execution_count": 56,
   "metadata": {},
   "outputs": [
    {
     "data": {
      "text/plain": [
       "ALABAMA AV        124\n",
       "CYPRESS HILLS     123\n",
       "VAN SICLEN AVE    111\n",
       "SUTTER AV          84\n",
       "CLEVELAND ST       84\n",
       "Name: STATION, dtype: int64"
      ]
     },
     "execution_count": 56,
     "metadata": {},
     "output_type": "execute_result"
    }
   ],
   "source": [
    "df.STATION.value_counts().tail()"
   ]
  },
  {
   "cell_type": "markdown",
   "metadata": {},
   "source": [
    "## The C/A column can be dropped because there is 1-1 correspondance between C/A and UNIT"
   ]
  },
  {
   "cell_type": "code",
   "execution_count": 61,
   "metadata": {},
   "outputs": [
    {
     "data": {
      "text/plain": [
       "732"
      ]
     },
     "execution_count": 61,
     "metadata": {},
     "output_type": "execute_result"
    }
   ],
   "source": [
    "df['C/A'].nunique()"
   ]
  },
  {
   "cell_type": "code",
   "execution_count": 63,
   "metadata": {},
   "outputs": [
    {
     "data": {
      "text/plain": [
       "732"
      ]
     },
     "execution_count": 63,
     "metadata": {},
     "output_type": "execute_result"
    }
   ],
   "source": [
    "df[['C/A', 'UNIT']].drop_duplicates().shape[0]"
   ]
  },
  {
   "cell_type": "markdown",
   "metadata": {},
   "source": [
    "# Each SCP can belong to multiple stations or UNITS "
   ]
  },
  {
   "cell_type": "code",
   "execution_count": null,
   "metadata": {
    "collapsed": true
   },
   "outputs": [],
   "source": [
    "df[['STATION', 'SCP']].drop_duplicates().groupby('SCP')['STATION'].size().head()"
   ]
  },
  {
   "cell_type": "code",
   "execution_count": null,
   "metadata": {
    "collapsed": true
   },
   "outputs": [],
   "source": [
    "df[['UNIT', 'SCP']].drop_duplicates().groupby('SCP')['UNIT'].size().head()"
   ]
  },
  {
   "cell_type": "code",
   "execution_count": null,
   "metadata": {
    "collapsed": true
   },
   "outputs": [],
   "source": [
    "df[['UNIT', 'SCP']].drop_duplicates().shape"
   ]
  },
  {
   "cell_type": "code",
   "execution_count": null,
   "metadata": {
    "collapsed": true
   },
   "outputs": [],
   "source": [
    "df[['STATION', 'UNIT', 'SCP']].drop_duplicates().shape"
   ]
  },
  {
   "cell_type": "markdown",
   "metadata": {},
   "source": [
    "# Each UNIT can belong to more than one station however judging by station names I would say that each UNIT belongs to a unique geographic station "
   ]
  },
  {
   "cell_type": "code",
   "execution_count": 69,
   "metadata": {},
   "outputs": [
    {
     "data": {
      "text/html": [
       "<div>\n",
       "<style>\n",
       "    .dataframe thead tr:only-child th {\n",
       "        text-align: right;\n",
       "    }\n",
       "\n",
       "    .dataframe thead th {\n",
       "        text-align: left;\n",
       "    }\n",
       "\n",
       "    .dataframe tbody tr th {\n",
       "        vertical-align: top;\n",
       "    }\n",
       "</style>\n",
       "<table border=\"1\" class=\"dataframe\">\n",
       "  <thead>\n",
       "    <tr style=\"text-align: right;\">\n",
       "      <th></th>\n",
       "      <th>Unit</th>\n",
       "      <th>numStations</th>\n",
       "    </tr>\n",
       "  </thead>\n",
       "  <tbody>\n",
       "    <tr>\n",
       "      <th>0</th>\n",
       "      <td>R549</td>\n",
       "      <td>4</td>\n",
       "    </tr>\n",
       "    <tr>\n",
       "      <th>1</th>\n",
       "      <td>R029</td>\n",
       "      <td>3</td>\n",
       "    </tr>\n",
       "    <tr>\n",
       "      <th>2</th>\n",
       "      <td>R550</td>\n",
       "      <td>2</td>\n",
       "    </tr>\n",
       "    <tr>\n",
       "      <th>3</th>\n",
       "      <td>R258</td>\n",
       "      <td>2</td>\n",
       "    </tr>\n",
       "    <tr>\n",
       "      <th>4</th>\n",
       "      <td>R163</td>\n",
       "      <td>2</td>\n",
       "    </tr>\n",
       "    <tr>\n",
       "      <th>5</th>\n",
       "      <td>R175</td>\n",
       "      <td>2</td>\n",
       "    </tr>\n",
       "    <tr>\n",
       "      <th>6</th>\n",
       "      <td>R044</td>\n",
       "      <td>2</td>\n",
       "    </tr>\n",
       "    <tr>\n",
       "      <th>7</th>\n",
       "      <td>R268</td>\n",
       "      <td>2</td>\n",
       "    </tr>\n",
       "    <tr>\n",
       "      <th>8</th>\n",
       "      <td>R540</td>\n",
       "      <td>2</td>\n",
       "    </tr>\n",
       "    <tr>\n",
       "      <th>9</th>\n",
       "      <td>R541</td>\n",
       "      <td>2</td>\n",
       "    </tr>\n",
       "    <tr>\n",
       "      <th>10</th>\n",
       "      <td>R018</td>\n",
       "      <td>2</td>\n",
       "    </tr>\n",
       "    <tr>\n",
       "      <th>11</th>\n",
       "      <td>R001</td>\n",
       "      <td>2</td>\n",
       "    </tr>\n",
       "    <tr>\n",
       "      <th>12</th>\n",
       "      <td>R359</td>\n",
       "      <td>2</td>\n",
       "    </tr>\n",
       "    <tr>\n",
       "      <th>13</th>\n",
       "      <td>R456</td>\n",
       "      <td>1</td>\n",
       "    </tr>\n",
       "    <tr>\n",
       "      <th>14</th>\n",
       "      <td>R451</td>\n",
       "      <td>1</td>\n",
       "    </tr>\n",
       "    <tr>\n",
       "      <th>15</th>\n",
       "      <td>R187</td>\n",
       "      <td>1</td>\n",
       "    </tr>\n",
       "    <tr>\n",
       "      <th>16</th>\n",
       "      <td>R186</td>\n",
       "      <td>1</td>\n",
       "    </tr>\n",
       "    <tr>\n",
       "      <th>17</th>\n",
       "      <td>R350</td>\n",
       "      <td>1</td>\n",
       "    </tr>\n",
       "    <tr>\n",
       "      <th>18</th>\n",
       "      <td>R185</td>\n",
       "      <td>1</td>\n",
       "    </tr>\n",
       "    <tr>\n",
       "      <th>19</th>\n",
       "      <td>R184</td>\n",
       "      <td>1</td>\n",
       "    </tr>\n",
       "  </tbody>\n",
       "</table>\n",
       "</div>"
      ],
      "text/plain": [
       "    Unit  numStations\n",
       "0   R549            4\n",
       "1   R029            3\n",
       "2   R550            2\n",
       "3   R258            2\n",
       "4   R163            2\n",
       "5   R175            2\n",
       "6   R044            2\n",
       "7   R268            2\n",
       "8   R540            2\n",
       "9   R541            2\n",
       "10  R018            2\n",
       "11  R001            2\n",
       "12  R359            2\n",
       "13  R456            1\n",
       "14  R451            1\n",
       "15  R187            1\n",
       "16  R186            1\n",
       "17  R350            1\n",
       "18  R185            1\n",
       "19  R184            1"
      ]
     },
     "execution_count": 69,
     "metadata": {},
     "output_type": "execute_result"
    }
   ],
   "source": [
    "(df[['UNIT', 'STATION']]\n",
    "    .drop_duplicates()\n",
    "    .UNIT.value_counts()\n",
    "    .reset_index()\n",
    "    .rename(columns={'UNIT':'numStations', 'index':'Unit'})\n",
    ").head(20)"
   ]
  },
  {
   "cell_type": "code",
   "execution_count": 70,
   "metadata": {},
   "outputs": [
    {
     "data": {
      "text/html": [
       "<div>\n",
       "<style>\n",
       "    .dataframe thead tr:only-child th {\n",
       "        text-align: right;\n",
       "    }\n",
       "\n",
       "    .dataframe thead th {\n",
       "        text-align: left;\n",
       "    }\n",
       "\n",
       "    .dataframe tbody tr th {\n",
       "        vertical-align: top;\n",
       "    }\n",
       "</style>\n",
       "<table border=\"1\" class=\"dataframe\">\n",
       "  <thead>\n",
       "    <tr style=\"text-align: right;\">\n",
       "      <th></th>\n",
       "      <th>UNIT</th>\n",
       "      <th>STATION</th>\n",
       "    </tr>\n",
       "  </thead>\n",
       "  <tbody>\n",
       "    <tr>\n",
       "      <th>109403</th>\n",
       "      <td>R549</td>\n",
       "      <td>NEWARK HW BMEBE</td>\n",
       "    </tr>\n",
       "    <tr>\n",
       "      <th>117852</th>\n",
       "      <td>R549</td>\n",
       "      <td>NEWARK BM BW</td>\n",
       "    </tr>\n",
       "    <tr>\n",
       "      <th>118575</th>\n",
       "      <td>R549</td>\n",
       "      <td>NEWARK C</td>\n",
       "    </tr>\n",
       "    <tr>\n",
       "      <th>119295</th>\n",
       "      <td>R549</td>\n",
       "      <td>NEWARK HM HE</td>\n",
       "    </tr>\n",
       "  </tbody>\n",
       "</table>\n",
       "</div>"
      ],
      "text/plain": [
       "        UNIT          STATION\n",
       "109403  R549  NEWARK HW BMEBE\n",
       "117852  R549     NEWARK BM BW\n",
       "118575  R549         NEWARK C\n",
       "119295  R549     NEWARK HM HE"
      ]
     },
     "execution_count": 70,
     "metadata": {},
     "output_type": "execute_result"
    }
   ],
   "source": [
    "df[df.UNIT == 'R549'][['UNIT', 'STATION']].drop_duplicates()"
   ]
  },
  {
   "cell_type": "code",
   "execution_count": 71,
   "metadata": {},
   "outputs": [
    {
     "data": {
      "text/html": [
       "<div>\n",
       "<style>\n",
       "    .dataframe thead tr:only-child th {\n",
       "        text-align: right;\n",
       "    }\n",
       "\n",
       "    .dataframe thead th {\n",
       "        text-align: left;\n",
       "    }\n",
       "\n",
       "    .dataframe tbody tr th {\n",
       "        vertical-align: top;\n",
       "    }\n",
       "</style>\n",
       "<table border=\"1\" class=\"dataframe\">\n",
       "  <thead>\n",
       "    <tr style=\"text-align: right;\">\n",
       "      <th></th>\n",
       "      <th>UNIT</th>\n",
       "      <th>STATION</th>\n",
       "    </tr>\n",
       "  </thead>\n",
       "  <tbody>\n",
       "    <tr>\n",
       "      <th>54812</th>\n",
       "      <td>R029</td>\n",
       "      <td>CHAMBERS ST</td>\n",
       "    </tr>\n",
       "    <tr>\n",
       "      <th>55861</th>\n",
       "      <td>R029</td>\n",
       "      <td>WORLD TRADE CTR</td>\n",
       "    </tr>\n",
       "    <tr>\n",
       "      <th>124789</th>\n",
       "      <td>R029</td>\n",
       "      <td>PARK PLACE</td>\n",
       "    </tr>\n",
       "  </tbody>\n",
       "</table>\n",
       "</div>"
      ],
      "text/plain": [
       "        UNIT          STATION\n",
       "54812   R029      CHAMBERS ST\n",
       "55861   R029  WORLD TRADE CTR\n",
       "124789  R029       PARK PLACE"
      ]
     },
     "execution_count": 71,
     "metadata": {},
     "output_type": "execute_result"
    }
   ],
   "source": [
    "df[df.UNIT == 'R029'][['UNIT', 'STATION']].drop_duplicates()"
   ]
  },
  {
   "cell_type": "code",
   "execution_count": 72,
   "metadata": {},
   "outputs": [
    {
     "data": {
      "text/html": [
       "<div>\n",
       "<style>\n",
       "    .dataframe thead tr:only-child th {\n",
       "        text-align: right;\n",
       "    }\n",
       "\n",
       "    .dataframe thead th {\n",
       "        text-align: left;\n",
       "    }\n",
       "\n",
       "    .dataframe tbody tr th {\n",
       "        vertical-align: top;\n",
       "    }\n",
       "</style>\n",
       "<table border=\"1\" class=\"dataframe\">\n",
       "  <thead>\n",
       "    <tr style=\"text-align: right;\">\n",
       "      <th></th>\n",
       "      <th>UNIT</th>\n",
       "      <th>STATION</th>\n",
       "    </tr>\n",
       "  </thead>\n",
       "  <tbody>\n",
       "    <tr>\n",
       "      <th>113770</th>\n",
       "      <td>R550</td>\n",
       "      <td>CITY / BUS</td>\n",
       "    </tr>\n",
       "    <tr>\n",
       "      <th>116225</th>\n",
       "      <td>R550</td>\n",
       "      <td>LACKAWANNA</td>\n",
       "    </tr>\n",
       "  </tbody>\n",
       "</table>\n",
       "</div>"
      ],
      "text/plain": [
       "        UNIT     STATION\n",
       "113770  R550  CITY / BUS\n",
       "116225  R550  LACKAWANNA"
      ]
     },
     "execution_count": 72,
     "metadata": {},
     "output_type": "execute_result"
    }
   ],
   "source": [
    "df[df.UNIT == 'R550'][['UNIT', 'STATION']].drop_duplicates()"
   ]
  },
  {
   "cell_type": "code",
   "execution_count": 73,
   "metadata": {},
   "outputs": [
    {
     "data": {
      "text/html": [
       "<div>\n",
       "<style>\n",
       "    .dataframe thead tr:only-child th {\n",
       "        text-align: right;\n",
       "    }\n",
       "\n",
       "    .dataframe thead th {\n",
       "        text-align: left;\n",
       "    }\n",
       "\n",
       "    .dataframe tbody tr th {\n",
       "        vertical-align: top;\n",
       "    }\n",
       "</style>\n",
       "<table border=\"1\" class=\"dataframe\">\n",
       "  <thead>\n",
       "    <tr style=\"text-align: right;\">\n",
       "      <th></th>\n",
       "      <th>UNIT</th>\n",
       "      <th>STATION</th>\n",
       "    </tr>\n",
       "  </thead>\n",
       "  <tbody>\n",
       "    <tr>\n",
       "      <th>120003</th>\n",
       "      <td>R540</td>\n",
       "      <td>PATH WTC 2</td>\n",
       "    </tr>\n",
       "    <tr>\n",
       "      <th>120203</th>\n",
       "      <td>R540</td>\n",
       "      <td>PATH NEW WTC</td>\n",
       "    </tr>\n",
       "  </tbody>\n",
       "</table>\n",
       "</div>"
      ],
      "text/plain": [
       "        UNIT       STATION\n",
       "120003  R540    PATH WTC 2\n",
       "120203  R540  PATH NEW WTC"
      ]
     },
     "execution_count": 73,
     "metadata": {},
     "output_type": "execute_result"
    }
   ],
   "source": [
    "df[df.UNIT == 'R540'][['UNIT', 'STATION']].drop_duplicates()"
   ]
  },
  {
   "cell_type": "code",
   "execution_count": 75,
   "metadata": {},
   "outputs": [
    {
     "data": {
      "text/plain": [
       "<matplotlib.text.Text at 0x1180b9650>"
      ]
     },
     "execution_count": 75,
     "metadata": {},
     "output_type": "execute_result"
    },
    {
     "data": {
      "image/png": "[encoded data removed]",
      "text/plain": [
       "<matplotlib.figure.Figure at 0x116ebe5d0>"
      ]
     },
     "metadata": {},
     "output_type": "display_data"
    }
   ],
   "source": [
    "tmp = (df[['STATION', 'UNIT']]\n",
    "    .drop_duplicates()\n",
    "    .groupby(['STATION'])\n",
    "    .size()\n",
    "    .to_frame()\n",
    "    .rename(columns={0:'numUnits'})\n",
    "    .reset_index())\n",
    "ax = tmp.numUnits.hist()\n",
    "ax.set_title(\"numUnitsPerStation\", fontsize=18)"
   ]
  },
  {
   "cell_type": "code",
   "execution_count": 77,
   "metadata": {},
   "outputs": [
    {
     "data": {
      "text/html": [
       "<div>\n",
       "<style>\n",
       "    .dataframe thead tr:only-child th {\n",
       "        text-align: right;\n",
       "    }\n",
       "\n",
       "    .dataframe thead th {\n",
       "        text-align: left;\n",
       "    }\n",
       "\n",
       "    .dataframe tbody tr th {\n",
       "        vertical-align: top;\n",
       "    }\n",
       "</style>\n",
       "<table border=\"1\" class=\"dataframe\">\n",
       "  <thead>\n",
       "    <tr style=\"text-align: right;\">\n",
       "      <th></th>\n",
       "      <th>STATION</th>\n",
       "      <th>numSCP</th>\n",
       "    </tr>\n",
       "  </thead>\n",
       "  <tbody>\n",
       "    <tr>\n",
       "      <th>61</th>\n",
       "      <td>34 ST-PENN STA</td>\n",
       "      <td>98</td>\n",
       "    </tr>\n",
       "    <tr>\n",
       "      <th>224</th>\n",
       "      <td>FULTON ST</td>\n",
       "      <td>96</td>\n",
       "    </tr>\n",
       "    <tr>\n",
       "      <th>46</th>\n",
       "      <td>23 ST</td>\n",
       "      <td>71</td>\n",
       "    </tr>\n",
       "    <tr>\n",
       "      <th>231</th>\n",
       "      <td>GRD CNTRL-42 ST</td>\n",
       "      <td>65</td>\n",
       "    </tr>\n",
       "    <tr>\n",
       "      <th>171</th>\n",
       "      <td>CANAL ST</td>\n",
       "      <td>58</td>\n",
       "    </tr>\n",
       "  </tbody>\n",
       "</table>\n",
       "</div>"
      ],
      "text/plain": [
       "             STATION  numSCP\n",
       "61    34 ST-PENN STA      98\n",
       "224        FULTON ST      96\n",
       "46             23 ST      71\n",
       "231  GRD CNTRL-42 ST      65\n",
       "171         CANAL ST      58"
      ]
     },
     "execution_count": 77,
     "metadata": {},
     "output_type": "execute_result"
    }
   ],
   "source": [
    "SCP_per_station = (df[['STATION', 'UNIT', 'SCP']]\n",
    "    .drop_duplicates()\n",
    "    .groupby(['STATION'])\n",
    "    .size()\n",
    "    .to_frame()\n",
    "    .rename(columns={0:'numSCP'})\n",
    "    .reset_index())\n",
    "SCP_per_station.sort_values('numSCP', ascending=False, inplace=True)\n",
    "SCP_per_station.head()"
   ]
  },
  {
   "cell_type": "code",
   "execution_count": 78,
   "metadata": {},
   "outputs": [
    {
     "data": {
      "text/html": [
       "<div>\n",
       "<style>\n",
       "    .dataframe thead tr:only-child th {\n",
       "        text-align: right;\n",
       "    }\n",
       "\n",
       "    .dataframe thead th {\n",
       "        text-align: left;\n",
       "    }\n",
       "\n",
       "    .dataframe tbody tr th {\n",
       "        vertical-align: top;\n",
       "    }\n",
       "</style>\n",
       "<table border=\"1\" class=\"dataframe\">\n",
       "  <thead>\n",
       "    <tr style=\"text-align: right;\">\n",
       "      <th></th>\n",
       "      <th>STATION</th>\n",
       "      <th>numSCP</th>\n",
       "    </tr>\n",
       "  </thead>\n",
       "  <tbody>\n",
       "    <tr>\n",
       "      <th>81</th>\n",
       "      <td>55 ST</td>\n",
       "      <td>3</td>\n",
       "    </tr>\n",
       "    <tr>\n",
       "      <th>89</th>\n",
       "      <td>65 ST</td>\n",
       "      <td>3</td>\n",
       "    </tr>\n",
       "    <tr>\n",
       "      <th>64</th>\n",
       "      <td>39 AV</td>\n",
       "      <td>3</td>\n",
       "    </tr>\n",
       "    <tr>\n",
       "      <th>186</th>\n",
       "      <td>CLEVELAND ST</td>\n",
       "      <td>2</td>\n",
       "    </tr>\n",
       "    <tr>\n",
       "      <th>347</th>\n",
       "      <td>SUTTER AV</td>\n",
       "      <td>2</td>\n",
       "    </tr>\n",
       "  </tbody>\n",
       "</table>\n",
       "</div>"
      ],
      "text/plain": [
       "          STATION  numSCP\n",
       "81          55 ST       3\n",
       "89          65 ST       3\n",
       "64          39 AV       3\n",
       "186  CLEVELAND ST       2\n",
       "347     SUTTER AV       2"
      ]
     },
     "execution_count": 78,
     "metadata": {},
     "output_type": "execute_result"
    }
   ],
   "source": [
    "SCP_per_station.tail()"
   ]
  },
  {
   "cell_type": "markdown",
   "metadata": {},
   "source": [
    "# Identify unique turnstiles"
   ]
  },
  {
   "cell_type": "code",
   "execution_count": 28,
   "metadata": {},
   "outputs": [
    {
     "data": {
      "text/html": [
       "<div>\n",
       "<style>\n",
       "    .dataframe thead tr:only-child th {\n",
       "        text-align: right;\n",
       "    }\n",
       "\n",
       "    .dataframe thead th {\n",
       "        text-align: left;\n",
       "    }\n",
       "\n",
       "    .dataframe tbody tr th {\n",
       "        vertical-align: top;\n",
       "    }\n",
       "</style>\n",
       "<table border=\"1\" class=\"dataframe\">\n",
       "  <thead>\n",
       "    <tr style=\"text-align: right;\">\n",
       "      <th></th>\n",
       "      <th>UNIT</th>\n",
       "      <th>STATION</th>\n",
       "      <th>LINENAME</th>\n",
       "    </tr>\n",
       "  </thead>\n",
       "  <tbody>\n",
       "    <tr>\n",
       "      <th>28655</th>\n",
       "      <td>R248</td>\n",
       "      <td>1 AV</td>\n",
       "      <td>L</td>\n",
       "    </tr>\n",
       "    <tr>\n",
       "      <th>137541</th>\n",
       "      <td>R191</td>\n",
       "      <td>103 ST</td>\n",
       "      <td>1</td>\n",
       "    </tr>\n",
       "    <tr>\n",
       "      <th>157914</th>\n",
       "      <td>R180</td>\n",
       "      <td>103 ST</td>\n",
       "      <td>6</td>\n",
       "    </tr>\n",
       "    <tr>\n",
       "      <th>44221</th>\n",
       "      <td>R314</td>\n",
       "      <td>103 ST</td>\n",
       "      <td>BC</td>\n",
       "    </tr>\n",
       "    <tr>\n",
       "      <th>181394</th>\n",
       "      <td>R208</td>\n",
       "      <td>103 ST-CORONA</td>\n",
       "      <td>7</td>\n",
       "    </tr>\n",
       "  </tbody>\n",
       "</table>\n",
       "</div>"
      ],
      "text/plain": [
       "        UNIT        STATION LINENAME\n",
       "28655   R248           1 AV        L\n",
       "137541  R191         103 ST        1\n",
       "157914  R180         103 ST        6\n",
       "44221   R314         103 ST       BC\n",
       "181394  R208  103 ST-CORONA        7"
      ]
     },
     "execution_count": 28,
     "metadata": {},
     "output_type": "execute_result"
    }
   ],
   "source": [
    "stations = df[['UNIT', 'STATION', 'LINENAME']].drop_duplicates()\n",
    "stations.sort_values(['STATION', 'LINENAME'], inplace=True)\n",
    "stations.head()"
   ]
  },
  {
   "cell_type": "code",
   "execution_count": 29,
   "metadata": {
    "collapsed": true
   },
   "outputs": [],
   "source": [
    "stations.to_clipboard()"
   ]
  },
  {
   "cell_type": "markdown",
   "metadata": {},
   "source": [
    "# A unit usually represents a unique station but there can be two units that represent a unique station. Example: \n",
    "\n",
    "\n",
    "\"\"\"R022\t34 ST-HERALD SQ\tBDFMNQRW\n",
    "R023\t34 ST-HERALD SQ\tBDFMNQRW\n",
    "R072\t34 ST-HUDSON YD\t7\n",
    "R031\t34 ST-PENN STA\t123\n",
    "R293\t34 ST-PENN STA\t123ACE\n",
    "R012\t34 ST-PENN STA\tACE\n",
    "R013\t34 ST-PENN STA\tACE\n",
    "\"\"\"\n",
    "\n"
   ]
  },
  {
   "cell_type": "markdown",
   "metadata": {},
   "source": [
    "# Based on the above a turnstile is defined as a unique combination of UNIT and SCP. I will create a turnstile variable that I will use later  "
   ]
  },
  {
   "cell_type": "code",
   "execution_count": 100,
   "metadata": {},
   "outputs": [
    {
     "data": {
      "text/html": [
       "<div>\n",
       "<style>\n",
       "    .dataframe thead tr:only-child th {\n",
       "        text-align: right;\n",
       "    }\n",
       "\n",
       "    .dataframe thead th {\n",
       "        text-align: left;\n",
       "    }\n",
       "\n",
       "    .dataframe tbody tr th {\n",
       "        vertical-align: top;\n",
       "    }\n",
       "</style>\n",
       "<table border=\"1\" class=\"dataframe\">\n",
       "  <thead>\n",
       "    <tr style=\"text-align: right;\">\n",
       "      <th></th>\n",
       "      <th>UNIT</th>\n",
       "      <th>SCP</th>\n",
       "      <th>turnstile</th>\n",
       "      <th>STATION</th>\n",
       "    </tr>\n",
       "  </thead>\n",
       "  <tbody>\n",
       "    <tr>\n",
       "      <th>0</th>\n",
       "      <td>R001</td>\n",
       "      <td>00-00-00</td>\n",
       "      <td>0</td>\n",
       "      <td>WHITEHALL S-FRY</td>\n",
       "    </tr>\n",
       "    <tr>\n",
       "      <th>1</th>\n",
       "      <td>R001</td>\n",
       "      <td>00-00-01</td>\n",
       "      <td>1</td>\n",
       "      <td>WHITEHALL S-FRY</td>\n",
       "    </tr>\n",
       "    <tr>\n",
       "      <th>2</th>\n",
       "      <td>R001</td>\n",
       "      <td>00-00-02</td>\n",
       "      <td>2</td>\n",
       "      <td>WHITEHALL S-FRY</td>\n",
       "    </tr>\n",
       "    <tr>\n",
       "      <th>3</th>\n",
       "      <td>R001</td>\n",
       "      <td>00-00-03</td>\n",
       "      <td>3</td>\n",
       "      <td>WHITEHALL S-FRY</td>\n",
       "    </tr>\n",
       "    <tr>\n",
       "      <th>4</th>\n",
       "      <td>R001</td>\n",
       "      <td>00-00-04</td>\n",
       "      <td>4</td>\n",
       "      <td>WHITEHALL S-FRY</td>\n",
       "    </tr>\n",
       "  </tbody>\n",
       "</table>\n",
       "</div>"
      ],
      "text/plain": [
       "   UNIT       SCP  turnstile          STATION\n",
       "0  R001  00-00-00          0  WHITEHALL S-FRY\n",
       "1  R001  00-00-01          1  WHITEHALL S-FRY\n",
       "2  R001  00-00-02          2  WHITEHALL S-FRY\n",
       "3  R001  00-00-03          3  WHITEHALL S-FRY\n",
       "4  R001  00-00-04          4  WHITEHALL S-FRY"
      ]
     },
     "execution_count": 100,
     "metadata": {},
     "output_type": "execute_result"
    }
   ],
   "source": [
    "turnstile = df[['UNIT', 'SCP']].drop_duplicates()\n",
    "turnstile['turnstile'] = np.arange(turnstile.shape[0])\n",
    "turnstile = turnstile.merge(df[['UNIT', 'SCP', 'STATION']].drop_duplicates(), \n",
    "                            on=['UNIT', 'SCP'])\n",
    "turnstile.head()"
   ]
  },
  {
   "cell_type": "code",
   "execution_count": 101,
   "metadata": {},
   "outputs": [
    {
     "data": {
      "text/plain": [
       "(4699, 4)"
      ]
     },
     "execution_count": 101,
     "metadata": {},
     "output_type": "execute_result"
    }
   ],
   "source": [
    "turnstile.shape"
   ]
  },
  {
   "cell_type": "code",
   "execution_count": 102,
   "metadata": {},
   "outputs": [
    {
     "data": {
      "text/plain": [
       "(197421, 12)"
      ]
     },
     "execution_count": 102,
     "metadata": {},
     "output_type": "execute_result"
    }
   ],
   "source": [
    "df.shape"
   ]
  },
  {
   "cell_type": "code",
   "execution_count": 146,
   "metadata": {
    "collapsed": true
   },
   "outputs": [],
   "source": [
    "df['datetime'] = pd.to_datetime(df.DATE) + pd.to_timedelta(df.TIME)\n",
    "\n",
    "df = df.sort_values(['UNIT', 'SCP', 'datetime'])\n",
    "df.index = np.arange(df.shape[0])\n",
    "\n"
   ]
  },
  {
   "cell_type": "code",
   "execution_count": 113,
   "metadata": {},
   "outputs": [
    {
     "data": {
      "text/html": [
       "<div>\n",
       "<style>\n",
       "    .dataframe thead tr:only-child th {\n",
       "        text-align: right;\n",
       "    }\n",
       "\n",
       "    .dataframe thead th {\n",
       "        text-align: left;\n",
       "    }\n",
       "\n",
       "    .dataframe tbody tr th {\n",
       "        vertical-align: top;\n",
       "    }\n",
       "</style>\n",
       "<table border=\"1\" class=\"dataframe\">\n",
       "  <thead>\n",
       "    <tr style=\"text-align: right;\">\n",
       "      <th></th>\n",
       "      <th>C/A</th>\n",
       "      <th>UNIT</th>\n",
       "      <th>SCP</th>\n",
       "      <th>STATION</th>\n",
       "      <th>LINENAME</th>\n",
       "      <th>DIVISION</th>\n",
       "      <th>DATE</th>\n",
       "      <th>TIME</th>\n",
       "      <th>DESC</th>\n",
       "      <th>ENTRIES</th>\n",
       "      <th>EXITS</th>\n",
       "      <th>datetime</th>\n",
       "    </tr>\n",
       "  </thead>\n",
       "  <tbody>\n",
       "    <tr>\n",
       "      <th>0</th>\n",
       "      <td>A060</td>\n",
       "      <td>R001</td>\n",
       "      <td>00-00-00</td>\n",
       "      <td>WHITEHALL S-FRY</td>\n",
       "      <td>R1W</td>\n",
       "      <td>BMT</td>\n",
       "      <td>06/24/2017</td>\n",
       "      <td>01:00:00</td>\n",
       "      <td>REGULAR</td>\n",
       "      <td>2501701</td>\n",
       "      <td>1958296</td>\n",
       "      <td>2017-06-24 01:00:00</td>\n",
       "    </tr>\n",
       "    <tr>\n",
       "      <th>1</th>\n",
       "      <td>A060</td>\n",
       "      <td>R001</td>\n",
       "      <td>00-00-00</td>\n",
       "      <td>WHITEHALL S-FRY</td>\n",
       "      <td>R1W</td>\n",
       "      <td>BMT</td>\n",
       "      <td>06/24/2017</td>\n",
       "      <td>05:00:00</td>\n",
       "      <td>REGULAR</td>\n",
       "      <td>2501733</td>\n",
       "      <td>1958313</td>\n",
       "      <td>2017-06-24 05:00:00</td>\n",
       "    </tr>\n",
       "    <tr>\n",
       "      <th>2</th>\n",
       "      <td>A060</td>\n",
       "      <td>R001</td>\n",
       "      <td>00-00-00</td>\n",
       "      <td>WHITEHALL S-FRY</td>\n",
       "      <td>R1W</td>\n",
       "      <td>BMT</td>\n",
       "      <td>06/24/2017</td>\n",
       "      <td>09:00:00</td>\n",
       "      <td>REGULAR</td>\n",
       "      <td>2501733</td>\n",
       "      <td>1958313</td>\n",
       "      <td>2017-06-24 09:00:00</td>\n",
       "    </tr>\n",
       "    <tr>\n",
       "      <th>3</th>\n",
       "      <td>A060</td>\n",
       "      <td>R001</td>\n",
       "      <td>00-00-00</td>\n",
       "      <td>WHITEHALL S-FRY</td>\n",
       "      <td>R1W</td>\n",
       "      <td>BMT</td>\n",
       "      <td>06/24/2017</td>\n",
       "      <td>13:00:00</td>\n",
       "      <td>REGULAR</td>\n",
       "      <td>2501733</td>\n",
       "      <td>1958313</td>\n",
       "      <td>2017-06-24 13:00:00</td>\n",
       "    </tr>\n",
       "    <tr>\n",
       "      <th>4</th>\n",
       "      <td>A060</td>\n",
       "      <td>R001</td>\n",
       "      <td>00-00-00</td>\n",
       "      <td>WHITEHALL S-FRY</td>\n",
       "      <td>R1W</td>\n",
       "      <td>BMT</td>\n",
       "      <td>06/24/2017</td>\n",
       "      <td>17:00:00</td>\n",
       "      <td>REGULAR</td>\n",
       "      <td>2501733</td>\n",
       "      <td>1958313</td>\n",
       "      <td>2017-06-24 17:00:00</td>\n",
       "    </tr>\n",
       "  </tbody>\n",
       "</table>\n",
       "</div>"
      ],
      "text/plain": [
       "    C/A  UNIT       SCP          STATION LINENAME DIVISION        DATE  \\\n",
       "0  A060  R001  00-00-00  WHITEHALL S-FRY      R1W      BMT  06/24/2017   \n",
       "1  A060  R001  00-00-00  WHITEHALL S-FRY      R1W      BMT  06/24/2017   \n",
       "2  A060  R001  00-00-00  WHITEHALL S-FRY      R1W      BMT  06/24/2017   \n",
       "3  A060  R001  00-00-00  WHITEHALL S-FRY      R1W      BMT  06/24/2017   \n",
       "4  A060  R001  00-00-00  WHITEHALL S-FRY      R1W      BMT  06/24/2017   \n",
       "\n",
       "       TIME     DESC  ENTRIES    EXITS            datetime  \n",
       "0  01:00:00  REGULAR  2501701  1958296 2017-06-24 01:00:00  \n",
       "1  05:00:00  REGULAR  2501733  1958313 2017-06-24 05:00:00  \n",
       "2  09:00:00  REGULAR  2501733  1958313 2017-06-24 09:00:00  \n",
       "3  13:00:00  REGULAR  2501733  1958313 2017-06-24 13:00:00  \n",
       "4  17:00:00  REGULAR  2501733  1958313 2017-06-24 17:00:00  "
      ]
     },
     "execution_count": 113,
     "metadata": {},
     "output_type": "execute_result"
    }
   ],
   "source": [
    "df.head()"
   ]
  },
  {
   "cell_type": "code",
   "execution_count": 114,
   "metadata": {},
   "outputs": [
    {
     "data": {
      "text/plain": [
       "(197421, 12)"
      ]
     },
     "execution_count": 114,
     "metadata": {},
     "output_type": "execute_result"
    }
   ],
   "source": [
    "df.shape"
   ]
  },
  {
   "cell_type": "code",
   "execution_count": 162,
   "metadata": {
    "collapsed": true
   },
   "outputs": [],
   "source": [
    "df = df.merge(turnstile[['UNIT', 'SCP', 'turnstile']], on=['UNIT', 'SCP'], how='inner')"
   ]
  },
  {
   "cell_type": "code",
   "execution_count": 163,
   "metadata": {},
   "outputs": [
    {
     "data": {
      "text/html": [
       "<div>\n",
       "<style>\n",
       "    .dataframe thead tr:only-child th {\n",
       "        text-align: right;\n",
       "    }\n",
       "\n",
       "    .dataframe thead th {\n",
       "        text-align: left;\n",
       "    }\n",
       "\n",
       "    .dataframe tbody tr th {\n",
       "        vertical-align: top;\n",
       "    }\n",
       "</style>\n",
       "<table border=\"1\" class=\"dataframe\">\n",
       "  <thead>\n",
       "    <tr style=\"text-align: right;\">\n",
       "      <th></th>\n",
       "      <th>C/A</th>\n",
       "      <th>UNIT</th>\n",
       "      <th>SCP</th>\n",
       "      <th>STATION</th>\n",
       "      <th>LINENAME</th>\n",
       "      <th>DIVISION</th>\n",
       "      <th>DATE</th>\n",
       "      <th>TIME</th>\n",
       "      <th>DESC</th>\n",
       "      <th>cumENTRIES</th>\n",
       "      <th>cumEXITS</th>\n",
       "      <th>datetime</th>\n",
       "      <th>entries</th>\n",
       "      <th>turnstile</th>\n",
       "    </tr>\n",
       "  </thead>\n",
       "  <tbody>\n",
       "    <tr>\n",
       "      <th>0</th>\n",
       "      <td>A060</td>\n",
       "      <td>R001</td>\n",
       "      <td>00-00-00</td>\n",
       "      <td>WHITEHALL S-FRY</td>\n",
       "      <td>R1W</td>\n",
       "      <td>BMT</td>\n",
       "      <td>06/24/2017</td>\n",
       "      <td>01:00:00</td>\n",
       "      <td>REGULAR</td>\n",
       "      <td>2501701</td>\n",
       "      <td>1958296</td>\n",
       "      <td>2017-06-24 01:00:00</td>\n",
       "      <td>32.0</td>\n",
       "      <td>0</td>\n",
       "    </tr>\n",
       "    <tr>\n",
       "      <th>1</th>\n",
       "      <td>A060</td>\n",
       "      <td>R001</td>\n",
       "      <td>00-00-00</td>\n",
       "      <td>WHITEHALL S-FRY</td>\n",
       "      <td>R1W</td>\n",
       "      <td>BMT</td>\n",
       "      <td>06/24/2017</td>\n",
       "      <td>05:00:00</td>\n",
       "      <td>REGULAR</td>\n",
       "      <td>2501733</td>\n",
       "      <td>1958313</td>\n",
       "      <td>2017-06-24 05:00:00</td>\n",
       "      <td>0.0</td>\n",
       "      <td>0</td>\n",
       "    </tr>\n",
       "    <tr>\n",
       "      <th>2</th>\n",
       "      <td>A060</td>\n",
       "      <td>R001</td>\n",
       "      <td>00-00-00</td>\n",
       "      <td>WHITEHALL S-FRY</td>\n",
       "      <td>R1W</td>\n",
       "      <td>BMT</td>\n",
       "      <td>06/24/2017</td>\n",
       "      <td>09:00:00</td>\n",
       "      <td>REGULAR</td>\n",
       "      <td>2501733</td>\n",
       "      <td>1958313</td>\n",
       "      <td>2017-06-24 09:00:00</td>\n",
       "      <td>0.0</td>\n",
       "      <td>0</td>\n",
       "    </tr>\n",
       "    <tr>\n",
       "      <th>3</th>\n",
       "      <td>A060</td>\n",
       "      <td>R001</td>\n",
       "      <td>00-00-00</td>\n",
       "      <td>WHITEHALL S-FRY</td>\n",
       "      <td>R1W</td>\n",
       "      <td>BMT</td>\n",
       "      <td>06/24/2017</td>\n",
       "      <td>13:00:00</td>\n",
       "      <td>REGULAR</td>\n",
       "      <td>2501733</td>\n",
       "      <td>1958313</td>\n",
       "      <td>2017-06-24 13:00:00</td>\n",
       "      <td>0.0</td>\n",
       "      <td>0</td>\n",
       "    </tr>\n",
       "    <tr>\n",
       "      <th>4</th>\n",
       "      <td>A060</td>\n",
       "      <td>R001</td>\n",
       "      <td>00-00-00</td>\n",
       "      <td>WHITEHALL S-FRY</td>\n",
       "      <td>R1W</td>\n",
       "      <td>BMT</td>\n",
       "      <td>06/24/2017</td>\n",
       "      <td>17:00:00</td>\n",
       "      <td>REGULAR</td>\n",
       "      <td>2501733</td>\n",
       "      <td>1958313</td>\n",
       "      <td>2017-06-24 17:00:00</td>\n",
       "      <td>4.0</td>\n",
       "      <td>0</td>\n",
       "    </tr>\n",
       "  </tbody>\n",
       "</table>\n",
       "</div>"
      ],
      "text/plain": [
       "    C/A  UNIT       SCP          STATION LINENAME DIVISION        DATE  \\\n",
       "0  A060  R001  00-00-00  WHITEHALL S-FRY      R1W      BMT  06/24/2017   \n",
       "1  A060  R001  00-00-00  WHITEHALL S-FRY      R1W      BMT  06/24/2017   \n",
       "2  A060  R001  00-00-00  WHITEHALL S-FRY      R1W      BMT  06/24/2017   \n",
       "3  A060  R001  00-00-00  WHITEHALL S-FRY      R1W      BMT  06/24/2017   \n",
       "4  A060  R001  00-00-00  WHITEHALL S-FRY      R1W      BMT  06/24/2017   \n",
       "\n",
       "       TIME     DESC  cumENTRIES  cumEXITS            datetime  entries  \\\n",
       "0  01:00:00  REGULAR     2501701   1958296 2017-06-24 01:00:00     32.0   \n",
       "1  05:00:00  REGULAR     2501733   1958313 2017-06-24 05:00:00      0.0   \n",
       "2  09:00:00  REGULAR     2501733   1958313 2017-06-24 09:00:00      0.0   \n",
       "3  13:00:00  REGULAR     2501733   1958313 2017-06-24 13:00:00      0.0   \n",
       "4  17:00:00  REGULAR     2501733   1958313 2017-06-24 17:00:00      4.0   \n",
       "\n",
       "   turnstile  \n",
       "0          0  \n",
       "1          0  \n",
       "2          0  \n",
       "3          0  \n",
       "4          0  "
      ]
     },
     "execution_count": 163,
     "metadata": {},
     "output_type": "execute_result"
    }
   ],
   "source": [
    "df.head()"
   ]
  },
  {
   "cell_type": "code",
   "execution_count": 164,
   "metadata": {
    "collapsed": true
   },
   "outputs": [],
   "source": [
    "df.drop(['C/A', 'UNIT', 'SCP', 'STATION', 'LINENAME', 'DIVISION', 'DATE', 'TIME', 'DESC'],\n",
    "       inplace=True, axis=1)"
   ]
  },
  {
   "cell_type": "code",
   "execution_count": 165,
   "metadata": {},
   "outputs": [
    {
     "data": {
      "text/html": [
       "<div>\n",
       "<style>\n",
       "    .dataframe thead tr:only-child th {\n",
       "        text-align: right;\n",
       "    }\n",
       "\n",
       "    .dataframe thead th {\n",
       "        text-align: left;\n",
       "    }\n",
       "\n",
       "    .dataframe tbody tr th {\n",
       "        vertical-align: top;\n",
       "    }\n",
       "</style>\n",
       "<table border=\"1\" class=\"dataframe\">\n",
       "  <thead>\n",
       "    <tr style=\"text-align: right;\">\n",
       "      <th></th>\n",
       "      <th>cumENTRIES</th>\n",
       "      <th>cumEXITS</th>\n",
       "      <th>datetime</th>\n",
       "      <th>entries</th>\n",
       "      <th>turnstile</th>\n",
       "    </tr>\n",
       "  </thead>\n",
       "  <tbody>\n",
       "    <tr>\n",
       "      <th>0</th>\n",
       "      <td>2501701</td>\n",
       "      <td>1958296</td>\n",
       "      <td>2017-06-24 01:00:00</td>\n",
       "      <td>32.0</td>\n",
       "      <td>0</td>\n",
       "    </tr>\n",
       "    <tr>\n",
       "      <th>1</th>\n",
       "      <td>2501733</td>\n",
       "      <td>1958313</td>\n",
       "      <td>2017-06-24 05:00:00</td>\n",
       "      <td>0.0</td>\n",
       "      <td>0</td>\n",
       "    </tr>\n",
       "    <tr>\n",
       "      <th>2</th>\n",
       "      <td>2501733</td>\n",
       "      <td>1958313</td>\n",
       "      <td>2017-06-24 09:00:00</td>\n",
       "      <td>0.0</td>\n",
       "      <td>0</td>\n",
       "    </tr>\n",
       "    <tr>\n",
       "      <th>3</th>\n",
       "      <td>2501733</td>\n",
       "      <td>1958313</td>\n",
       "      <td>2017-06-24 13:00:00</td>\n",
       "      <td>0.0</td>\n",
       "      <td>0</td>\n",
       "    </tr>\n",
       "    <tr>\n",
       "      <th>4</th>\n",
       "      <td>2501733</td>\n",
       "      <td>1958313</td>\n",
       "      <td>2017-06-24 17:00:00</td>\n",
       "      <td>4.0</td>\n",
       "      <td>0</td>\n",
       "    </tr>\n",
       "  </tbody>\n",
       "</table>\n",
       "</div>"
      ],
      "text/plain": [
       "   cumENTRIES  cumEXITS            datetime  entries  turnstile\n",
       "0     2501701   1958296 2017-06-24 01:00:00     32.0          0\n",
       "1     2501733   1958313 2017-06-24 05:00:00      0.0          0\n",
       "2     2501733   1958313 2017-06-24 09:00:00      0.0          0\n",
       "3     2501733   1958313 2017-06-24 13:00:00      0.0          0\n",
       "4     2501733   1958313 2017-06-24 17:00:00      4.0          0"
      ]
     },
     "execution_count": 165,
     "metadata": {},
     "output_type": "execute_result"
    }
   ],
   "source": [
    "df.head()"
   ]
  },
  {
   "cell_type": "code",
   "execution_count": 166,
   "metadata": {},
   "outputs": [
    {
     "data": {
      "text/plain": [
       "(197421, 5)"
      ]
     },
     "execution_count": 166,
     "metadata": {},
     "output_type": "execute_result"
    }
   ],
   "source": [
    "df.shape"
   ]
  },
  {
   "cell_type": "code",
   "execution_count": 143,
   "metadata": {
    "collapsed": true
   },
   "outputs": [],
   "source": [
    "df.rename(columns={'ENTRIES':'cumENTRIES', 'EXITS':'cumEXITS'}, inplace=True)"
   ]
  },
  {
   "cell_type": "code",
   "execution_count": 126,
   "metadata": {},
   "outputs": [
    {
     "data": {
      "text/html": [
       "<div>\n",
       "<style>\n",
       "    .dataframe thead tr:only-child th {\n",
       "        text-align: right;\n",
       "    }\n",
       "\n",
       "    .dataframe thead th {\n",
       "        text-align: left;\n",
       "    }\n",
       "\n",
       "    .dataframe tbody tr th {\n",
       "        vertical-align: top;\n",
       "    }\n",
       "</style>\n",
       "<table border=\"1\" class=\"dataframe\">\n",
       "  <thead>\n",
       "    <tr style=\"text-align: right;\">\n",
       "      <th></th>\n",
       "      <th>cumENTRIES</th>\n",
       "      <th>cumEXITS</th>\n",
       "      <th>datetime</th>\n",
       "      <th>turnstile</th>\n",
       "    </tr>\n",
       "  </thead>\n",
       "  <tbody>\n",
       "    <tr>\n",
       "      <th>0</th>\n",
       "      <td>2501701</td>\n",
       "      <td>1958296</td>\n",
       "      <td>2017-06-24 01:00:00</td>\n",
       "      <td>0</td>\n",
       "    </tr>\n",
       "    <tr>\n",
       "      <th>1</th>\n",
       "      <td>2501733</td>\n",
       "      <td>1958313</td>\n",
       "      <td>2017-06-24 05:00:00</td>\n",
       "      <td>0</td>\n",
       "    </tr>\n",
       "    <tr>\n",
       "      <th>2</th>\n",
       "      <td>2501733</td>\n",
       "      <td>1958313</td>\n",
       "      <td>2017-06-24 09:00:00</td>\n",
       "      <td>0</td>\n",
       "    </tr>\n",
       "    <tr>\n",
       "      <th>3</th>\n",
       "      <td>2501733</td>\n",
       "      <td>1958313</td>\n",
       "      <td>2017-06-24 13:00:00</td>\n",
       "      <td>0</td>\n",
       "    </tr>\n",
       "    <tr>\n",
       "      <th>4</th>\n",
       "      <td>2501733</td>\n",
       "      <td>1958313</td>\n",
       "      <td>2017-06-24 17:00:00</td>\n",
       "      <td>0</td>\n",
       "    </tr>\n",
       "  </tbody>\n",
       "</table>\n",
       "</div>"
      ],
      "text/plain": [
       "   cumENTRIES  cumEXITS            datetime  turnstile\n",
       "0     2501701   1958296 2017-06-24 01:00:00          0\n",
       "1     2501733   1958313 2017-06-24 05:00:00          0\n",
       "2     2501733   1958313 2017-06-24 09:00:00          0\n",
       "3     2501733   1958313 2017-06-24 13:00:00          0\n",
       "4     2501733   1958313 2017-06-24 17:00:00          0"
      ]
     },
     "execution_count": 126,
     "metadata": {},
     "output_type": "execute_result"
    }
   ],
   "source": [
    "df.head()"
   ]
  },
  {
   "cell_type": "markdown",
   "metadata": {},
   "source": [
    "## Descriptives on Numeric variables "
   ]
  },
  {
   "cell_type": "code",
   "execution_count": 167,
   "metadata": {},
   "outputs": [
    {
     "data": {
      "text/plain": [
       "count    1.974210e+05\n",
       "mean     3.890493e+07\n",
       "std      2.069815e+08\n",
       "min      0.000000e+00\n",
       "25%      4.903900e+05\n",
       "50%      2.646989e+06\n",
       "75%      6.796841e+06\n",
       "max      2.130423e+09\n",
       "Name: cumENTRIES, dtype: float64"
      ]
     },
     "execution_count": 167,
     "metadata": {},
     "output_type": "execute_result"
    }
   ],
   "source": [
    "df.cumENTRIES.describe()"
   ]
  },
  {
   "cell_type": "code",
   "execution_count": 145,
   "metadata": {},
   "outputs": [
    {
     "data": {
      "text/plain": [
       "count    1.974210e+05\n",
       "mean     3.102447e+07\n",
       "std      1.852684e+08\n",
       "min      0.000000e+00\n",
       "25%      2.383740e+05\n",
       "50%      1.482037e+06\n",
       "75%      4.776935e+06\n",
       "max      2.087387e+09\n",
       "Name: cumEXITS, dtype: float64"
      ]
     },
     "execution_count": 145,
     "metadata": {},
     "output_type": "execute_result"
    }
   ],
   "source": [
    "df.cumEXITS.describe()"
   ]
  },
  {
   "cell_type": "code",
   "execution_count": 168,
   "metadata": {},
   "outputs": [
    {
     "name": "stdout",
     "output_type": "stream",
     "text": [
      "<class 'pandas.core.frame.DataFrame'>\n",
      "Int64Index: 197421 entries, 0 to 197420\n",
      "Data columns (total 5 columns):\n",
      "cumENTRIES    197421 non-null int64\n",
      "cumEXITS      197421 non-null int64\n",
      "datetime      197421 non-null datetime64[ns]\n",
      "entries       192722 non-null float64\n",
      "turnstile     197421 non-null int64\n",
      "dtypes: datetime64[ns](1), float64(1), int64(3)\n",
      "memory usage: 9.0 MB\n"
     ]
    }
   ],
   "source": [
    "df.info()"
   ]
  },
  {
   "cell_type": "markdown",
   "metadata": {},
   "source": [
    "# Calculate entries from cumulative entries"
   ]
  },
  {
   "cell_type": "code",
   "execution_count": 170,
   "metadata": {},
   "outputs": [
    {
     "data": {
      "text/plain": [
       "(197421, 5)"
      ]
     },
     "execution_count": 170,
     "metadata": {},
     "output_type": "execute_result"
    }
   ],
   "source": [
    "df.shape"
   ]
  },
  {
   "cell_type": "code",
   "execution_count": 169,
   "metadata": {
    "collapsed": true
   },
   "outputs": [],
   "source": [
    "df = df.sort_values(['turnstile', 'datetime'])\n",
    "df.index = np.arange(df.shape[0])"
   ]
  },
  {
   "cell_type": "code",
   "execution_count": 173,
   "metadata": {
    "collapsed": true
   },
   "outputs": [],
   "source": [
    "df['entries'] =  df.cumENTRIES.shift(-1) - df.cumENTRIES\n",
    "df['exits']   =  df.cumEXITS.shift(-1) - df.cumEXITS\n",
    "#df.loc[df.UNIT != df.UNIT.shift(-1), 'entries'] = np.nan\n",
    "#df.loc[df.SCP  != df.SCP.shift(-1), 'entries'] = np.nan \n",
    "df.loc[df.turnstile != df.turnstile.shift(-1), 'entries'] = np.nan\n",
    "df.loc[df.turnstile != df.turnstile.shift(-1), 'exits'] = np.nan\n",
    "#df.loc[df.DATE != df.DATE.shift(-1), 'entries'] = np.nan"
   ]
  },
  {
   "cell_type": "code",
   "execution_count": 174,
   "metadata": {},
   "outputs": [
    {
     "data": {
      "text/html": [
       "<div>\n",
       "<style>\n",
       "    .dataframe thead tr:only-child th {\n",
       "        text-align: right;\n",
       "    }\n",
       "\n",
       "    .dataframe thead th {\n",
       "        text-align: left;\n",
       "    }\n",
       "\n",
       "    .dataframe tbody tr th {\n",
       "        vertical-align: top;\n",
       "    }\n",
       "</style>\n",
       "<table border=\"1\" class=\"dataframe\">\n",
       "  <thead>\n",
       "    <tr style=\"text-align: right;\">\n",
       "      <th></th>\n",
       "      <th>cumENTRIES</th>\n",
       "      <th>cumEXITS</th>\n",
       "      <th>datetime</th>\n",
       "      <th>entries</th>\n",
       "      <th>turnstile</th>\n",
       "      <th>exits</th>\n",
       "    </tr>\n",
       "  </thead>\n",
       "  <tbody>\n",
       "    <tr>\n",
       "      <th>0</th>\n",
       "      <td>2501701</td>\n",
       "      <td>1958296</td>\n",
       "      <td>2017-06-24 01:00:00</td>\n",
       "      <td>32.0</td>\n",
       "      <td>0</td>\n",
       "      <td>17.0</td>\n",
       "    </tr>\n",
       "    <tr>\n",
       "      <th>1</th>\n",
       "      <td>2501733</td>\n",
       "      <td>1958313</td>\n",
       "      <td>2017-06-24 05:00:00</td>\n",
       "      <td>0.0</td>\n",
       "      <td>0</td>\n",
       "      <td>0.0</td>\n",
       "    </tr>\n",
       "    <tr>\n",
       "      <th>2</th>\n",
       "      <td>2501733</td>\n",
       "      <td>1958313</td>\n",
       "      <td>2017-06-24 09:00:00</td>\n",
       "      <td>0.0</td>\n",
       "      <td>0</td>\n",
       "      <td>0.0</td>\n",
       "    </tr>\n",
       "    <tr>\n",
       "      <th>3</th>\n",
       "      <td>2501733</td>\n",
       "      <td>1958313</td>\n",
       "      <td>2017-06-24 13:00:00</td>\n",
       "      <td>0.0</td>\n",
       "      <td>0</td>\n",
       "      <td>0.0</td>\n",
       "    </tr>\n",
       "    <tr>\n",
       "      <th>4</th>\n",
       "      <td>2501733</td>\n",
       "      <td>1958313</td>\n",
       "      <td>2017-06-24 17:00:00</td>\n",
       "      <td>4.0</td>\n",
       "      <td>0</td>\n",
       "      <td>0.0</td>\n",
       "    </tr>\n",
       "  </tbody>\n",
       "</table>\n",
       "</div>"
      ],
      "text/plain": [
       "   cumENTRIES  cumEXITS            datetime  entries  turnstile  exits\n",
       "0     2501701   1958296 2017-06-24 01:00:00     32.0          0   17.0\n",
       "1     2501733   1958313 2017-06-24 05:00:00      0.0          0    0.0\n",
       "2     2501733   1958313 2017-06-24 09:00:00      0.0          0    0.0\n",
       "3     2501733   1958313 2017-06-24 13:00:00      0.0          0    0.0\n",
       "4     2501733   1958313 2017-06-24 17:00:00      4.0          0    0.0"
      ]
     },
     "execution_count": 174,
     "metadata": {},
     "output_type": "execute_result"
    }
   ],
   "source": [
    "df.head()"
   ]
  },
  {
   "cell_type": "code",
   "execution_count": 175,
   "metadata": {},
   "outputs": [
    {
     "data": {
      "text/plain": [
       "count    1.927220e+05\n",
       "mean    -1.658525e+02\n",
       "std      5.226395e+06\n",
       "min     -1.610338e+09\n",
       "25%      1.100000e+01\n",
       "50%      8.300000e+01\n",
       "75%      2.550000e+02\n",
       "max      1.610338e+09\n",
       "Name: entries, dtype: float64"
      ]
     },
     "execution_count": 175,
     "metadata": {},
     "output_type": "execute_result"
    }
   ],
   "source": [
    "df.entries.describe()"
   ]
  },
  {
   "cell_type": "markdown",
   "metadata": {},
   "source": [
    "## The mean is negative and does not make any sense. The negative mean is due to outliers"
   ]
  },
  {
   "cell_type": "code",
   "execution_count": 156,
   "metadata": {
    "collapsed": true
   },
   "outputs": [],
   "source": [
    "df[df.entries < 0].to_clipboard()"
   ]
  },
  {
   "cell_type": "code",
   "execution_count": 176,
   "metadata": {},
   "outputs": [
    {
     "data": {
      "text/html": [
       "<div>\n",
       "<style>\n",
       "    .dataframe thead tr:only-child th {\n",
       "        text-align: right;\n",
       "    }\n",
       "\n",
       "    .dataframe thead th {\n",
       "        text-align: left;\n",
       "    }\n",
       "\n",
       "    .dataframe tbody tr th {\n",
       "        vertical-align: top;\n",
       "    }\n",
       "</style>\n",
       "<table border=\"1\" class=\"dataframe\">\n",
       "  <thead>\n",
       "    <tr style=\"text-align: right;\">\n",
       "      <th></th>\n",
       "      <th>turnstile</th>\n",
       "      <th>datetime</th>\n",
       "      <th>cumENTRIES</th>\n",
       "      <th>entries</th>\n",
       "    </tr>\n",
       "  </thead>\n",
       "  <tbody>\n",
       "    <tr>\n",
       "      <th>2516</th>\n",
       "      <td>62</td>\n",
       "      <td>2017-06-24 00:00:00</td>\n",
       "      <td>2026014447</td>\n",
       "      <td>-1.0</td>\n",
       "    </tr>\n",
       "    <tr>\n",
       "      <th>2517</th>\n",
       "      <td>62</td>\n",
       "      <td>2017-06-24 04:00:00</td>\n",
       "      <td>2026014446</td>\n",
       "      <td>-3.0</td>\n",
       "    </tr>\n",
       "    <tr>\n",
       "      <th>2520</th>\n",
       "      <td>62</td>\n",
       "      <td>2017-06-24 16:00:00</td>\n",
       "      <td>2026014443</td>\n",
       "      <td>-2.0</td>\n",
       "    </tr>\n",
       "    <tr>\n",
       "      <th>2521</th>\n",
       "      <td>62</td>\n",
       "      <td>2017-06-24 20:00:00</td>\n",
       "      <td>2026014441</td>\n",
       "      <td>-6.0</td>\n",
       "    </tr>\n",
       "    <tr>\n",
       "      <th>2522</th>\n",
       "      <td>62</td>\n",
       "      <td>2017-06-25 00:00:00</td>\n",
       "      <td>2026014435</td>\n",
       "      <td>-2.0</td>\n",
       "    </tr>\n",
       "    <tr>\n",
       "      <th>2523</th>\n",
       "      <td>62</td>\n",
       "      <td>2017-06-25 04:00:00</td>\n",
       "      <td>2026014433</td>\n",
       "      <td>-9.0</td>\n",
       "    </tr>\n",
       "    <tr>\n",
       "      <th>2524</th>\n",
       "      <td>62</td>\n",
       "      <td>2017-06-25 08:00:00</td>\n",
       "      <td>2026014424</td>\n",
       "      <td>-14.0</td>\n",
       "    </tr>\n",
       "    <tr>\n",
       "      <th>2525</th>\n",
       "      <td>62</td>\n",
       "      <td>2017-06-25 12:00:00</td>\n",
       "      <td>2026014410</td>\n",
       "      <td>-9.0</td>\n",
       "    </tr>\n",
       "    <tr>\n",
       "      <th>2526</th>\n",
       "      <td>62</td>\n",
       "      <td>2017-06-25 16:00:00</td>\n",
       "      <td>2026014401</td>\n",
       "      <td>-9.0</td>\n",
       "    </tr>\n",
       "    <tr>\n",
       "      <th>2527</th>\n",
       "      <td>62</td>\n",
       "      <td>2017-06-25 20:00:00</td>\n",
       "      <td>2026014392</td>\n",
       "      <td>-4.0</td>\n",
       "    </tr>\n",
       "    <tr>\n",
       "      <th>2529</th>\n",
       "      <td>62</td>\n",
       "      <td>2017-06-26 04:00:00</td>\n",
       "      <td>2026014388</td>\n",
       "      <td>-22.0</td>\n",
       "    </tr>\n",
       "    <tr>\n",
       "      <th>2530</th>\n",
       "      <td>62</td>\n",
       "      <td>2017-06-26 08:00:00</td>\n",
       "      <td>2026014366</td>\n",
       "      <td>-22.0</td>\n",
       "    </tr>\n",
       "    <tr>\n",
       "      <th>2531</th>\n",
       "      <td>62</td>\n",
       "      <td>2017-06-26 12:00:00</td>\n",
       "      <td>2026014344</td>\n",
       "      <td>-17.0</td>\n",
       "    </tr>\n",
       "    <tr>\n",
       "      <th>2532</th>\n",
       "      <td>62</td>\n",
       "      <td>2017-06-26 16:00:00</td>\n",
       "      <td>2026014327</td>\n",
       "      <td>-11.0</td>\n",
       "    </tr>\n",
       "    <tr>\n",
       "      <th>2533</th>\n",
       "      <td>62</td>\n",
       "      <td>2017-06-26 20:00:00</td>\n",
       "      <td>2026014316</td>\n",
       "      <td>-4.0</td>\n",
       "    </tr>\n",
       "    <tr>\n",
       "      <th>2534</th>\n",
       "      <td>62</td>\n",
       "      <td>2017-06-27 00:00:00</td>\n",
       "      <td>2026014312</td>\n",
       "      <td>-1.0</td>\n",
       "    </tr>\n",
       "    <tr>\n",
       "      <th>2535</th>\n",
       "      <td>62</td>\n",
       "      <td>2017-06-27 04:00:00</td>\n",
       "      <td>2026014311</td>\n",
       "      <td>-46.0</td>\n",
       "    </tr>\n",
       "    <tr>\n",
       "      <th>2536</th>\n",
       "      <td>62</td>\n",
       "      <td>2017-06-27 08:00:00</td>\n",
       "      <td>2026014265</td>\n",
       "      <td>-25.0</td>\n",
       "    </tr>\n",
       "    <tr>\n",
       "      <th>2537</th>\n",
       "      <td>62</td>\n",
       "      <td>2017-06-27 12:00:00</td>\n",
       "      <td>2026014240</td>\n",
       "      <td>-9.0</td>\n",
       "    </tr>\n",
       "    <tr>\n",
       "      <th>2538</th>\n",
       "      <td>62</td>\n",
       "      <td>2017-06-27 16:00:00</td>\n",
       "      <td>2026014231</td>\n",
       "      <td>-13.0</td>\n",
       "    </tr>\n",
       "    <tr>\n",
       "      <th>2539</th>\n",
       "      <td>62</td>\n",
       "      <td>2017-06-27 20:00:00</td>\n",
       "      <td>2026014218</td>\n",
       "      <td>-1.0</td>\n",
       "    </tr>\n",
       "    <tr>\n",
       "      <th>2541</th>\n",
       "      <td>62</td>\n",
       "      <td>2017-06-28 04:00:00</td>\n",
       "      <td>2026014217</td>\n",
       "      <td>-41.0</td>\n",
       "    </tr>\n",
       "    <tr>\n",
       "      <th>2542</th>\n",
       "      <td>62</td>\n",
       "      <td>2017-06-28 08:00:00</td>\n",
       "      <td>2026014176</td>\n",
       "      <td>-28.0</td>\n",
       "    </tr>\n",
       "    <tr>\n",
       "      <th>2543</th>\n",
       "      <td>62</td>\n",
       "      <td>2017-06-28 12:00:00</td>\n",
       "      <td>2026014148</td>\n",
       "      <td>-23.0</td>\n",
       "    </tr>\n",
       "    <tr>\n",
       "      <th>2544</th>\n",
       "      <td>62</td>\n",
       "      <td>2017-06-28 16:00:00</td>\n",
       "      <td>2026014125</td>\n",
       "      <td>-7.0</td>\n",
       "    </tr>\n",
       "    <tr>\n",
       "      <th>2545</th>\n",
       "      <td>62</td>\n",
       "      <td>2017-06-28 20:00:00</td>\n",
       "      <td>2026014118</td>\n",
       "      <td>-2.0</td>\n",
       "    </tr>\n",
       "    <tr>\n",
       "      <th>2546</th>\n",
       "      <td>62</td>\n",
       "      <td>2017-06-29 00:00:00</td>\n",
       "      <td>2026014116</td>\n",
       "      <td>-1.0</td>\n",
       "    </tr>\n",
       "    <tr>\n",
       "      <th>2547</th>\n",
       "      <td>62</td>\n",
       "      <td>2017-06-29 04:00:00</td>\n",
       "      <td>2026014115</td>\n",
       "      <td>-42.0</td>\n",
       "    </tr>\n",
       "    <tr>\n",
       "      <th>2548</th>\n",
       "      <td>62</td>\n",
       "      <td>2017-06-29 08:00:00</td>\n",
       "      <td>2026014073</td>\n",
       "      <td>-15.0</td>\n",
       "    </tr>\n",
       "    <tr>\n",
       "      <th>2549</th>\n",
       "      <td>62</td>\n",
       "      <td>2017-06-29 12:00:00</td>\n",
       "      <td>2026014058</td>\n",
       "      <td>-19.0</td>\n",
       "    </tr>\n",
       "    <tr>\n",
       "      <th>...</th>\n",
       "      <td>...</td>\n",
       "      <td>...</td>\n",
       "      <td>...</td>\n",
       "      <td>...</td>\n",
       "    </tr>\n",
       "    <tr>\n",
       "      <th>177876</th>\n",
       "      <td>4217</td>\n",
       "      <td>2017-06-27 20:00:00</td>\n",
       "      <td>1826211376</td>\n",
       "      <td>-485.0</td>\n",
       "    </tr>\n",
       "    <tr>\n",
       "      <th>177877</th>\n",
       "      <td>4217</td>\n",
       "      <td>2017-06-28 00:00:00</td>\n",
       "      <td>1826210891</td>\n",
       "      <td>-23.0</td>\n",
       "    </tr>\n",
       "    <tr>\n",
       "      <th>177878</th>\n",
       "      <td>4217</td>\n",
       "      <td>2017-06-28 04:00:00</td>\n",
       "      <td>1826210868</td>\n",
       "      <td>-44.0</td>\n",
       "    </tr>\n",
       "    <tr>\n",
       "      <th>177879</th>\n",
       "      <td>4217</td>\n",
       "      <td>2017-06-28 08:00:00</td>\n",
       "      <td>1826210824</td>\n",
       "      <td>-239.0</td>\n",
       "    </tr>\n",
       "    <tr>\n",
       "      <th>177880</th>\n",
       "      <td>4217</td>\n",
       "      <td>2017-06-28 12:00:00</td>\n",
       "      <td>1826210585</td>\n",
       "      <td>-480.0</td>\n",
       "    </tr>\n",
       "    <tr>\n",
       "      <th>177881</th>\n",
       "      <td>4217</td>\n",
       "      <td>2017-06-28 16:00:00</td>\n",
       "      <td>1826210105</td>\n",
       "      <td>-1488.0</td>\n",
       "    </tr>\n",
       "    <tr>\n",
       "      <th>177882</th>\n",
       "      <td>4217</td>\n",
       "      <td>2017-06-28 20:00:00</td>\n",
       "      <td>1826208617</td>\n",
       "      <td>-520.0</td>\n",
       "    </tr>\n",
       "    <tr>\n",
       "      <th>177883</th>\n",
       "      <td>4217</td>\n",
       "      <td>2017-06-29 00:00:00</td>\n",
       "      <td>1826208097</td>\n",
       "      <td>-34.0</td>\n",
       "    </tr>\n",
       "    <tr>\n",
       "      <th>177884</th>\n",
       "      <td>4217</td>\n",
       "      <td>2017-06-29 04:00:00</td>\n",
       "      <td>1826208063</td>\n",
       "      <td>-31.0</td>\n",
       "    </tr>\n",
       "    <tr>\n",
       "      <th>177885</th>\n",
       "      <td>4217</td>\n",
       "      <td>2017-06-29 08:00:00</td>\n",
       "      <td>1826208032</td>\n",
       "      <td>-256.0</td>\n",
       "    </tr>\n",
       "    <tr>\n",
       "      <th>177886</th>\n",
       "      <td>4217</td>\n",
       "      <td>2017-06-29 12:00:00</td>\n",
       "      <td>1826207776</td>\n",
       "      <td>-484.0</td>\n",
       "    </tr>\n",
       "    <tr>\n",
       "      <th>177887</th>\n",
       "      <td>4217</td>\n",
       "      <td>2017-06-29 16:00:00</td>\n",
       "      <td>1826207292</td>\n",
       "      <td>-1604.0</td>\n",
       "    </tr>\n",
       "    <tr>\n",
       "      <th>177888</th>\n",
       "      <td>4217</td>\n",
       "      <td>2017-06-29 20:00:00</td>\n",
       "      <td>1826205688</td>\n",
       "      <td>-568.0</td>\n",
       "    </tr>\n",
       "    <tr>\n",
       "      <th>177889</th>\n",
       "      <td>4217</td>\n",
       "      <td>2017-06-30 00:00:00</td>\n",
       "      <td>1826205120</td>\n",
       "      <td>-63.0</td>\n",
       "    </tr>\n",
       "    <tr>\n",
       "      <th>177890</th>\n",
       "      <td>4217</td>\n",
       "      <td>2017-06-30 04:00:00</td>\n",
       "      <td>1826205057</td>\n",
       "      <td>-28.0</td>\n",
       "    </tr>\n",
       "    <tr>\n",
       "      <th>177891</th>\n",
       "      <td>4217</td>\n",
       "      <td>2017-06-30 08:00:00</td>\n",
       "      <td>1826205029</td>\n",
       "      <td>-256.0</td>\n",
       "    </tr>\n",
       "    <tr>\n",
       "      <th>177892</th>\n",
       "      <td>4217</td>\n",
       "      <td>2017-06-30 12:00:00</td>\n",
       "      <td>1826204773</td>\n",
       "      <td>-784.0</td>\n",
       "    </tr>\n",
       "    <tr>\n",
       "      <th>177893</th>\n",
       "      <td>4217</td>\n",
       "      <td>2017-06-30 16:00:00</td>\n",
       "      <td>1826203989</td>\n",
       "      <td>-1251.0</td>\n",
       "    </tr>\n",
       "    <tr>\n",
       "      <th>180421</th>\n",
       "      <td>4277</td>\n",
       "      <td>2017-06-30 13:00:00</td>\n",
       "      <td>26926</td>\n",
       "      <td>-26262.0</td>\n",
       "    </tr>\n",
       "    <tr>\n",
       "      <th>182608</th>\n",
       "      <td>4329</td>\n",
       "      <td>2017-06-26 13:00:00</td>\n",
       "      <td>12226</td>\n",
       "      <td>-12188.0</td>\n",
       "    </tr>\n",
       "    <tr>\n",
       "      <th>184254</th>\n",
       "      <td>4370</td>\n",
       "      <td>2017-06-25 16:05:38</td>\n",
       "      <td>28569</td>\n",
       "      <td>-28565.0</td>\n",
       "    </tr>\n",
       "    <tr>\n",
       "      <th>185503</th>\n",
       "      <td>4401</td>\n",
       "      <td>2017-06-27 09:42:35</td>\n",
       "      <td>34169</td>\n",
       "      <td>-34059.0</td>\n",
       "    </tr>\n",
       "    <tr>\n",
       "      <th>186712</th>\n",
       "      <td>4431</td>\n",
       "      <td>2017-06-28 15:14:11</td>\n",
       "      <td>312728</td>\n",
       "      <td>-312728.0</td>\n",
       "    </tr>\n",
       "    <tr>\n",
       "      <th>187963</th>\n",
       "      <td>4463</td>\n",
       "      <td>2017-06-25 22:10:03</td>\n",
       "      <td>3936</td>\n",
       "      <td>-3815.0</td>\n",
       "    </tr>\n",
       "    <tr>\n",
       "      <th>187972</th>\n",
       "      <td>4463</td>\n",
       "      <td>2017-06-27 11:51:02</td>\n",
       "      <td>2344</td>\n",
       "      <td>-2186.0</td>\n",
       "    </tr>\n",
       "    <tr>\n",
       "      <th>190190</th>\n",
       "      <td>4519</td>\n",
       "      <td>2017-06-29 06:10:14</td>\n",
       "      <td>387423</td>\n",
       "      <td>-387230.0</td>\n",
       "    </tr>\n",
       "    <tr>\n",
       "      <th>190540</th>\n",
       "      <td>4528</td>\n",
       "      <td>2017-06-27 08:45:37</td>\n",
       "      <td>15685</td>\n",
       "      <td>-15672.0</td>\n",
       "    </tr>\n",
       "    <tr>\n",
       "      <th>192970</th>\n",
       "      <td>4589</td>\n",
       "      <td>2017-06-28 20:17:14</td>\n",
       "      <td>4248</td>\n",
       "      <td>-4248.0</td>\n",
       "    </tr>\n",
       "    <tr>\n",
       "      <th>194642</th>\n",
       "      <td>4631</td>\n",
       "      <td>2017-06-30 11:48:49</td>\n",
       "      <td>49730</td>\n",
       "      <td>-49616.0</td>\n",
       "    </tr>\n",
       "    <tr>\n",
       "      <th>195002</th>\n",
       "      <td>4640</td>\n",
       "      <td>2017-06-30 14:19:02</td>\n",
       "      <td>50114</td>\n",
       "      <td>-49773.0</td>\n",
       "    </tr>\n",
       "  </tbody>\n",
       "</table>\n",
       "<p>1581 rows × 4 columns</p>\n",
       "</div>"
      ],
      "text/plain": [
       "        turnstile            datetime  cumENTRIES   entries\n",
       "2516           62 2017-06-24 00:00:00  2026014447      -1.0\n",
       "2517           62 2017-06-24 04:00:00  2026014446      -3.0\n",
       "2520           62 2017-06-24 16:00:00  2026014443      -2.0\n",
       "2521           62 2017-06-24 20:00:00  2026014441      -6.0\n",
       "2522           62 2017-06-25 00:00:00  2026014435      -2.0\n",
       "2523           62 2017-06-25 04:00:00  2026014433      -9.0\n",
       "2524           62 2017-06-25 08:00:00  2026014424     -14.0\n",
       "2525           62 2017-06-25 12:00:00  2026014410      -9.0\n",
       "2526           62 2017-06-25 16:00:00  2026014401      -9.0\n",
       "2527           62 2017-06-25 20:00:00  2026014392      -4.0\n",
       "2529           62 2017-06-26 04:00:00  2026014388     -22.0\n",
       "2530           62 2017-06-26 08:00:00  2026014366     -22.0\n",
       "2531           62 2017-06-26 12:00:00  2026014344     -17.0\n",
       "2532           62 2017-06-26 16:00:00  2026014327     -11.0\n",
       "2533           62 2017-06-26 20:00:00  2026014316      -4.0\n",
       "2534           62 2017-06-27 00:00:00  2026014312      -1.0\n",
       "2535           62 2017-06-27 04:00:00  2026014311     -46.0\n",
       "2536           62 2017-06-27 08:00:00  2026014265     -25.0\n",
       "2537           62 2017-06-27 12:00:00  2026014240      -9.0\n",
       "2538           62 2017-06-27 16:00:00  2026014231     -13.0\n",
       "2539           62 2017-06-27 20:00:00  2026014218      -1.0\n",
       "2541           62 2017-06-28 04:00:00  2026014217     -41.0\n",
       "2542           62 2017-06-28 08:00:00  2026014176     -28.0\n",
       "2543           62 2017-06-28 12:00:00  2026014148     -23.0\n",
       "2544           62 2017-06-28 16:00:00  2026014125      -7.0\n",
       "2545           62 2017-06-28 20:00:00  2026014118      -2.0\n",
       "2546           62 2017-06-29 00:00:00  2026014116      -1.0\n",
       "2547           62 2017-06-29 04:00:00  2026014115     -42.0\n",
       "2548           62 2017-06-29 08:00:00  2026014073     -15.0\n",
       "2549           62 2017-06-29 12:00:00  2026014058     -19.0\n",
       "...           ...                 ...         ...       ...\n",
       "177876       4217 2017-06-27 20:00:00  1826211376    -485.0\n",
       "177877       4217 2017-06-28 00:00:00  1826210891     -23.0\n",
       "177878       4217 2017-06-28 04:00:00  1826210868     -44.0\n",
       "177879       4217 2017-06-28 08:00:00  1826210824    -239.0\n",
       "177880       4217 2017-06-28 12:00:00  1826210585    -480.0\n",
       "177881       4217 2017-06-28 16:00:00  1826210105   -1488.0\n",
       "177882       4217 2017-06-28 20:00:00  1826208617    -520.0\n",
       "177883       4217 2017-06-29 00:00:00  1826208097     -34.0\n",
       "177884       4217 2017-06-29 04:00:00  1826208063     -31.0\n",
       "177885       4217 2017-06-29 08:00:00  1826208032    -256.0\n",
       "177886       4217 2017-06-29 12:00:00  1826207776    -484.0\n",
       "177887       4217 2017-06-29 16:00:00  1826207292   -1604.0\n",
       "177888       4217 2017-06-29 20:00:00  1826205688    -568.0\n",
       "177889       4217 2017-06-30 00:00:00  1826205120     -63.0\n",
       "177890       4217 2017-06-30 04:00:00  1826205057     -28.0\n",
       "177891       4217 2017-06-30 08:00:00  1826205029    -256.0\n",
       "177892       4217 2017-06-30 12:00:00  1826204773    -784.0\n",
       "177893       4217 2017-06-30 16:00:00  1826203989   -1251.0\n",
       "180421       4277 2017-06-30 13:00:00       26926  -26262.0\n",
       "182608       4329 2017-06-26 13:00:00       12226  -12188.0\n",
       "184254       4370 2017-06-25 16:05:38       28569  -28565.0\n",
       "185503       4401 2017-06-27 09:42:35       34169  -34059.0\n",
       "186712       4431 2017-06-28 15:14:11      312728 -312728.0\n",
       "187963       4463 2017-06-25 22:10:03        3936   -3815.0\n",
       "187972       4463 2017-06-27 11:51:02        2344   -2186.0\n",
       "190190       4519 2017-06-29 06:10:14      387423 -387230.0\n",
       "190540       4528 2017-06-27 08:45:37       15685  -15672.0\n",
       "192970       4589 2017-06-28 20:17:14        4248   -4248.0\n",
       "194642       4631 2017-06-30 11:48:49       49730  -49616.0\n",
       "195002       4640 2017-06-30 14:19:02       50114  -49773.0\n",
       "\n",
       "[1581 rows x 4 columns]"
      ]
     },
     "execution_count": 176,
     "metadata": {},
     "output_type": "execute_result"
    }
   ],
   "source": [
    "df[df.entries < 0][['turnstile', 'datetime', 'cumENTRIES', 'entries']]"
   ]
  },
  {
   "cell_type": "markdown",
   "metadata": {},
   "source": [
    "## You have 26 negative values "
   ]
  },
  {
   "cell_type": "code",
   "execution_count": 178,
   "metadata": {},
   "outputs": [
    {
     "data": {
      "text/plain": [
       "((1581, 6), (3, 6))"
      ]
     },
     "execution_count": 178,
     "metadata": {},
     "output_type": "execute_result"
    }
   ],
   "source": [
    "df[df.entries < 0].shape, df[df.entries > 10000].shape"
   ]
  },
  {
   "cell_type": "markdown",
   "metadata": {},
   "source": [
    "# The negative values are due to the reset of the cumulative ENTRY/EXIT variables"
   ]
  },
  {
   "cell_type": "code",
   "execution_count": null,
   "metadata": {
    "collapsed": true
   },
   "outputs": [],
   "source": [
    "df.loc[df.entries < 0, 'entries'] = - 1\n",
    "df.loc[df.entries > 10000, 'entries'] = -1 "
   ]
  },
  {
   "cell_type": "code",
   "execution_count": null,
   "metadata": {
    "collapsed": true
   },
   "outputs": [],
   "source": [
    "df[df.entries < 0].shape"
   ]
  },
  {
   "cell_type": "markdown",
   "metadata": {},
   "source": [
    "# you need to impute those invalid values from the means if they correspond to a regular interval "
   ]
  },
  {
   "cell_type": "code",
   "execution_count": null,
   "metadata": {
    "collapsed": true
   },
   "outputs": [],
   "source": [
    "ax = df.entries.hist(figsize=(15,10), bins=range(0,4000,10), log=True)\n",
    "ax.set_title(\"Number of turnstile entries. Irregular interval\", fontsize=18)\n",
    "ax.set_xlabel(\"Num entries\", fontsize=18)\n",
    "ax.set_ylabel(\"observations\", fontsize=18)"
   ]
  },
  {
   "cell_type": "code",
   "execution_count": null,
   "metadata": {
    "collapsed": true
   },
   "outputs": [],
   "source": [
    "df.columns"
   ]
  },
  {
   "cell_type": "code",
   "execution_count": null,
   "metadata": {
    "collapsed": true
   },
   "outputs": [],
   "source": [
    "numObsPerDay = (df.groupby(['UNIT', 'SCP', 'DATE'])['entries'].size()\n",
    "   .reset_index()\n",
    "   .rename(columns={'entries':'numObs'})\n",
    "   .sort_values('numObs', ascending=True)\n",
    ")\n",
    "\n",
    "numObsPerDay.head()"
   ]
  },
  {
   "cell_type": "code",
   "execution_count": null,
   "metadata": {
    "collapsed": true
   },
   "outputs": [],
   "source": [
    "(numObsPerDay.numObs.value_counts()\n",
    "    .reset_index()\n",
    "    .rename(columns={'numObs':\"number of days\", 'index':'num_turnstile_obs'})\n",
    "    .sort_values('num_turnstile_obs', ascending=True)\n",
    ")"
   ]
  },
  {
   "cell_type": "markdown",
   "metadata": {},
   "source": [
    "## The vast majority of time there are 6 observations but there are cases you have less that need to be addressed"
   ]
  },
  {
   "cell_type": "markdown",
   "metadata": {},
   "source": [
    "### For each turnstile and date, you you have an observation for 99.8 % of the time. "
   ]
  },
  {
   "cell_type": "code",
   "execution_count": null,
   "metadata": {
    "collapsed": true
   },
   "outputs": [],
   "source": [
    "numTurnstiles = df[['UNIT', 'SCP']].drop_duplicates().shape[0]\n",
    "numTurnstiles"
   ]
  },
  {
   "cell_type": "code",
   "execution_count": null,
   "metadata": {
    "collapsed": true
   },
   "outputs": [],
   "source": [
    "numTurnstiles * df.DATE.unique().shape[0]"
   ]
  },
  {
   "cell_type": "code",
   "execution_count": null,
   "metadata": {
    "collapsed": true
   },
   "outputs": [],
   "source": [
    "df[['UNIT', 'SCP', 'DATE']].drop_duplicates().shape[0]"
   ]
  },
  {
   "cell_type": "code",
   "execution_count": null,
   "metadata": {
    "collapsed": true
   },
   "outputs": [],
   "source": [
    "df[['UNIT', 'SCP', 'DATE']].drop_duplicates().shape[0] / (float(numTurnstiles) * df.DATE.unique().shape[0])"
   ]
  },
  {
   "cell_type": "markdown",
   "metadata": {},
   "source": [
    "# Time intervals to standardize for  "
   ]
  },
  {
   "cell_type": "code",
   "execution_count": null,
   "metadata": {
    "collapsed": true
   },
   "outputs": [],
   "source": [
    "timesPerTurnstile = (df[['UNIT', 'SCP', 'TIME']].drop_duplicates()\n",
    "    .groupby(['UNIT', 'SCP'])['TIME'].size()\n",
    "    .reset_index()\n",
    "    .rename(columns={'TIME':'numTimeIntervals'})\n",
    "    .sort_values('numTimeIntervals', ascending=True)\n",
    ")\n",
    "timesPerTurnstile"
   ]
  },
  {
   "cell_type": "code",
   "execution_count": null,
   "metadata": {
    "collapsed": true
   },
   "outputs": [],
   "source": [
    "(timesPerTurnstile.numTimeIntervals\n",
    "                 .value_counts()\n",
    "                 .reset_index()\n",
    "                 .rename(columns={'numTimeIntervals':'numTurnstiles', 'index':'numOfTimeIntervals'})\n",
    "                 .sort_values('numOfTimeIntervals', ascending=True)\n",
    ")"
   ]
  },
  {
   "cell_type": "markdown",
   "metadata": {},
   "source": [
    "## The majority of the turnstiles report 6 time intervals. But there is a significant number that does not "
   ]
  },
  {
   "cell_type": "markdown",
   "metadata": {},
   "source": [
    "## Popular times "
   ]
  },
  {
   "cell_type": "code",
   "execution_count": null,
   "metadata": {
    "collapsed": true
   },
   "outputs": [],
   "source": [
    "df.TIME.value_counts?"
   ]
  },
  {
   "cell_type": "code",
   "execution_count": null,
   "metadata": {
    "collapsed": true
   },
   "outputs": [],
   "source": [
    "pop_times = (df.TIME.value_counts(normalize=True)\n",
    " .reset_index()\n",
    ")\n",
    "\n",
    "pop_times['cumPercentage'] = np.cumsum(pop_times.TIME.values)\n",
    "pop_times.head(20)"
   ]
  },
  {
   "cell_type": "markdown",
   "metadata": {},
   "source": [
    "## 88% of the time the time reported is 0,4,12,8,16,20 or 1, 5, 9, 13, 17, 21"
   ]
  },
  {
   "cell_type": "markdown",
   "metadata": {},
   "source": [
    "## Reporting times are not standardized at all "
   ]
  },
  {
   "cell_type": "code",
   "execution_count": null,
   "metadata": {
    "collapsed": true
   },
   "outputs": [],
   "source": [
    "df.columns"
   ]
  },
  {
   "cell_type": "code",
   "execution_count": null,
   "metadata": {
    "collapsed": true
   },
   "outputs": [],
   "source": [
    "df['time'] = pd.to_timedelta(df.TIME).dt.total_seconds() / 3600"
   ]
  },
  {
   "cell_type": "code",
   "execution_count": null,
   "metadata": {
    "collapsed": true
   },
   "outputs": [],
   "source": [
    "df['time'].max()"
   ]
  },
  {
   "cell_type": "code",
   "execution_count": null,
   "metadata": {
    "collapsed": true
   },
   "outputs": [],
   "source": [
    "ax = df.time.hist(figsize=(15,10), bins=np.arange(0,24,0.1), log=False)\n",
    "ax.set_title(\"Distribution of Reported Times\\(bin is 6 minutes)\", fontsize=18)\n",
    "ax.set_xlabel(\"Hours\", fontsize=18)\n",
    "ax.set_ylabel(\"Frequency\", fontsize=18)\n",
    "ax.set_xlim([0,24])"
   ]
  },
  {
   "cell_type": "code",
   "execution_count": null,
   "metadata": {
    "collapsed": true
   },
   "outputs": [],
   "source": [
    "df.columns"
   ]
  },
  {
   "cell_type": "code",
   "execution_count": null,
   "metadata": {
    "collapsed": true
   },
   "outputs": [],
   "source": [
    "df.sort_values(['UNIT', 'SCP', 'datetime'], inplace=True)"
   ]
  },
  {
   "cell_type": "code",
   "execution_count": null,
   "metadata": {
    "collapsed": true
   },
   "outputs": [],
   "source": [
    "df['DT'] =  df.datetime.shift(-1) - df.datetime\n",
    "df.loc[df.SCP != df.SCP.shift(-1), 'DT'] = np.nan\n",
    "df.loc[df.UNIT != df.UNIT.shift(-1), 'DT'] = np.nan"
   ]
  },
  {
   "cell_type": "code",
   "execution_count": null,
   "metadata": {
    "collapsed": true
   },
   "outputs": [],
   "source": [
    "df.head(100)"
   ]
  },
  {
   "cell_type": "code",
   "execution_count": null,
   "metadata": {
    "collapsed": true
   },
   "outputs": [],
   "source": [
    "df['DT'].unique().shape"
   ]
  },
  {
   "cell_type": "code",
   "execution_count": null,
   "metadata": {
    "collapsed": true
   },
   "outputs": [],
   "source": [
    "df['DT'].min()"
   ]
  },
  {
   "cell_type": "code",
   "execution_count": null,
   "metadata": {
    "collapsed": true
   },
   "outputs": [],
   "source": [
    "df['DT'].max()"
   ]
  },
  {
   "cell_type": "code",
   "execution_count": null,
   "metadata": {
    "collapsed": true
   },
   "outputs": [],
   "source": [
    "x.max()"
   ]
  },
  {
   "cell_type": "code",
   "execution_count": null,
   "metadata": {
    "collapsed": true
   },
   "outputs": [],
   "source": [
    "fig, ax = plt.subplots(figsize=(15,10))\n",
    "\n",
    "x = df['DT'].dropna().dt.total_seconds() / 3600\n",
    "\n",
    "\n",
    "ax.hist(x, bins=np.arange(0.1,122.1, 1), log=True, color='grey', alpha=0.5)\n",
    "\n",
    "ax.set_title(\"Hours between successive measurements\", fontsize=18)\n",
    "\n",
    "\n",
    "ax.grid(True)\n",
    "ax.set_xlabel(\"Hours between successive measurements\",fontsize=18)\n",
    "ax.set_ylabel(\"Freq\", fontsize=18)\n",
    "#ax.hist(x)"
   ]
  },
  {
   "cell_type": "code",
   "execution_count": null,
   "metadata": {
    "collapsed": true
   },
   "outputs": [],
   "source": [
    "df.columns"
   ]
  },
  {
   "cell_type": "code",
   "execution_count": null,
   "metadata": {
    "collapsed": true
   },
   "outputs": [],
   "source": [
    "df.set_index(['UNIT', 'SCP'], inplace=True)"
   ]
  },
  {
   "cell_type": "code",
   "execution_count": null,
   "metadata": {
    "collapsed": true
   },
   "outputs": [],
   "source": [
    "df.head()"
   ]
  },
  {
   "cell_type": "code",
   "execution_count": null,
   "metadata": {
    "collapsed": true
   },
   "outputs": [],
   "source": [
    "df2 = df[['UNIT', 'SCP', 'STATION', 'datetime', 'cumENTRIES', 'entries', 'time', 'DT']].copy()"
   ]
  },
  {
   "cell_type": "code",
   "execution_count": null,
   "metadata": {
    "collapsed": true
   },
   "outputs": [],
   "source": [
    "df2.set_index(['UNIT', 'SCP'], inplace=True)"
   ]
  },
  {
   "cell_type": "code",
   "execution_count": null,
   "metadata": {
    "collapsed": true
   },
   "outputs": [],
   "source": [
    "df2.loc['R001', '00-00-00']"
   ]
  },
  {
   "cell_type": "code",
   "execution_count": null,
   "metadata": {
    "collapsed": true
   },
   "outputs": [],
   "source": []
  },
  {
   "cell_type": "code",
   "execution_count": null,
   "metadata": {
    "collapsed": true
   },
   "outputs": [],
   "source": [
    "from datetime import date, timedelta"
   ]
  },
  {
   "cell_type": "code",
   "execution_count": null,
   "metadata": {
    "collapsed": true
   },
   "outputs": [],
   "source": [
    "date(2017, 8, 12) - timedelta(days=7) * 2"
   ]
  },
  {
   "cell_type": "code",
   "execution_count": null,
   "metadata": {
    "collapsed": true
   },
   "outputs": [],
   "source": [
    "timedelta(days=7)"
   ]
  },
  {
   "cell_type": "code",
   "execution_count": null,
   "metadata": {
    "collapsed": true
   },
   "outputs": [],
   "source": [
    "#http://web.mta.info/developers/data/nyct/turnstile/turnstile_141018.txt\n",
    "\n",
    "start_date = date(2014, 10, 18)\n",
    "end_date   = date(2017, 8, 26)\n",
    "\n",
    "start_date = date(2010, 06, 05)\n",
    "\n",
    "#Saturday, June 05, 2010\n",
    "#http://web.mta.info/developers/data/nyct/turnstile/turnstile_100505.txt\n",
    "end_date = date(2014, 10, 18)"
   ]
  },
  {
   "cell_type": "code",
   "execution_count": null,
   "metadata": {
    "collapsed": true
   },
   "outputs": [],
   "source": [
    "mta_urls = [] \n",
    "d = start_date\n",
    "while d < end_date:\n",
    "    \n",
    "  \n",
    "    \n",
    "    \n",
    "    # http://web.mta.info/developers/data/nyct/turnstile/turnstile_170826.txt\n",
    "    #print(d.strftime(%H))\n",
    "    #s = d.strftime(\"%y%m%d\")\n",
    "    link = \"http://web.mta.info/developers/data/nyct/turnstile/turnstile_%s.txt\" % d.strftime(\"%y%m%d\")\n",
    "    d = d + timedelta(days=7)\n",
    "    \n",
    "    mta_urls.append(link)\n",
    "    #print(link)\n",
    "    "
   ]
  },
  {
   "cell_type": "code",
   "execution_count": null,
   "metadata": {
    "collapsed": true
   },
   "outputs": [],
   "source": [
    "len(mta_urls)"
   ]
  },
  {
   "cell_type": "code",
   "execution_count": null,
   "metadata": {
    "collapsed": true
   },
   "outputs": [],
   "source": [
    "import wget"
   ]
  },
  {
   "cell_type": "code",
   "execution_count": null,
   "metadata": {
    "collapsed": true
   },
   "outputs": [],
   "source": [
    "def readAllFilesNewFormat(mta_urls, out_file):\n",
    "    \n",
    "    result = [] \n",
    "    \n",
    "    for url in mta_urls:\n",
    "\n",
    "        try: \n",
    "            \n",
    "            filename = wget.download(url)\n",
    "            print(filename)\n",
    "            df = pd.read_csv(filename, header=0, names=col_names)\n",
    "\n",
    "            df['datetime'] = pd.to_datetime(df.DATE) + pd.to_timedelta(df.TIME)\n",
    "\n",
    "            df = df.sort_values(['UNIT', 'SCP', 'datetime'])\n",
    "            df.index = np.arange(df.shape[0])\n",
    "            df.rename(columns={'ENTRIES':'cumENTRIES', 'EXITS':'cumEXITS'}, inplace=True)\n",
    "\n",
    "            df['entries'] =  df.cumENTRIES.shift(-1) - df.cumENTRIES\n",
    "            df.loc[df.SCP != df.SCP.shift(-1), 'entries'] = np.nan\n",
    "            df.loc[df.UNIT != df.UNIT.shift(-1), 'entries'] = np.nan    \n",
    "\n",
    "            df['exits'] =  df.cumEXITS.shift(-1) - df.cumEXITS\n",
    "            df.loc[df.SCP != df.SCP.shift(-1), 'exits'] = np.nan\n",
    "            df.loc[df.UNIT != df.UNIT.shift(-1), 'exits'] = np.nan  \n",
    "\n",
    "\n",
    "            df['time'] = pd.to_timedelta(df.TIME).dt.total_seconds() / 3600\n",
    "\n",
    "            df['DT'] =  df.datetime.shift(-1) - df.datetime\n",
    "            df.loc[df.SCP != df.SCP.shift(-1), 'DT'] = np.nan\n",
    "            df.loc[df.UNIT != df.UNIT.shift(-1), 'DT'] = np.nan\n",
    "\n",
    "\n",
    "            df2 = df[['UNIT', 'SCP', 'STATION', 'datetime', \n",
    "                   'cumENTRIES', 'cumEXITS', 'entries', 'exits', 'time', 'DT']].copy()\n",
    "            \n",
    "            \n",
    "            df2.to_hdf(out_file,'table',append=True)\n",
    "        \n",
    "        except Exception:\n",
    "            \n",
    "            print(\"ERROR in processing %s\" % filename)\n",
    "            \n",
    "    "
   ]
  },
  {
   "cell_type": "code",
   "execution_count": null,
   "metadata": {
    "collapsed": true
   },
   "outputs": [],
   "source": [
    "readAllFiles(mta_urls, '/Users/michailxyntarakis/opendata/mta/turnstile/turnstiles_141025_170826.hdf')"
   ]
  },
  {
   "cell_type": "code",
   "execution_count": null,
   "metadata": {
    "collapsed": true
   },
   "outputs": [],
   "source": [
    "filename = wget.download(\"http://web.mta.info/developers/data/nyct/turnstile/turnstile_100505.txt\")"
   ]
  },
  {
   "cell_type": "code",
   "execution_count": null,
   "metadata": {
    "collapsed": true
   },
   "outputs": [],
   "source": [
    "mta_urls[0]"
   ]
  },
  {
   "cell_type": "code",
   "execution_count": null,
   "metadata": {
    "collapsed": true
   },
   "outputs": [],
   "source": [
    "columns2=\"\"\"C/A,UNIT,SCP,DATE1,TIME1,DESC1,ENTRIES1,EXITS1,DATE2,TIME2,DESC2,ENTRIES2,EXITS2,DATE3,TIME3,DESC3,ENTRIES3,EXITS3,DATE4,TIME4,DESC4,ENTRIES4,EXITS4,DATE5,TIME5,DESC5,ENTRIES5,EXITS5,DATE6,TIME6,DESC6,ENTRIES6,EXITS6,DATE7,TIME7,DESC7,ENTRIES7,EXITS7,DATE8,TIME8,DESC8,ENTRIES8,EXITS8\"\"\".split(\",\")"
   ]
  },
  {
   "cell_type": "code",
   "execution_count": null,
   "metadata": {
    "collapsed": true
   },
   "outputs": [],
   "source": [
    "df = pd.read_csv(filename, header=0, names=columns2)"
   ]
  },
  {
   "cell_type": "code",
   "execution_count": null,
   "metadata": {
    "collapsed": true
   },
   "outputs": [],
   "source": [
    "df.columns"
   ]
  },
  {
   "cell_type": "code",
   "execution_count": null,
   "metadata": {
    "collapsed": true
   },
   "outputs": [],
   "source": [
    "result = [] \n",
    "\n",
    "for i in range(1, 9):\n",
    "\n",
    "    cols = [u'UNIT', u'SCP',  u'DATE%d' % i, u'TIME%d' % i , u'ENTRIES%d' % i, u'EXITS%d' % i]\n",
    "    df2 = df[cols].copy() \n",
    "    df2.columns = ['UNIT', 'SCP', 'DATE', 'TIME', 'cumENTRIES', 'cumEXITS']\n",
    "    \n",
    "    result.append(df2)\n",
    "    \n",
    "result = pd.concat(result)\n"
   ]
  },
  {
   "cell_type": "code",
   "execution_count": null,
   "metadata": {
    "collapsed": true
   },
   "outputs": [],
   "source": [
    "result.head()"
   ]
  },
  {
   "cell_type": "code",
   "execution_count": null,
   "metadata": {
    "collapsed": true
   },
   "outputs": [],
   "source": [
    "df = result.copy()"
   ]
  },
  {
   "cell_type": "code",
   "execution_count": null,
   "metadata": {
    "collapsed": true
   },
   "outputs": [],
   "source": [
    "df.head()"
   ]
  },
  {
   "cell_type": "code",
   "execution_count": null,
   "metadata": {
    "collapsed": true
   },
   "outputs": [],
   "source": [
    "df['datetime'] = pd.to_datetime(df.DATE) + pd.to_timedelta(df.TIME)\n",
    "\n",
    "df = df.dropna()\n",
    "df = df.sort_values(['UNIT', 'SCP', 'datetime'])\n",
    "df.index = np.arange(df.shape[0])\n",
    "\n",
    "\n",
    "df['entries'] =  df.cumENTRIES.shift(-1) - df.cumENTRIES\n",
    "df.loc[df.SCP != df.SCP.shift(-1), 'entries'] = np.nan\n",
    "df.loc[df.UNIT != df.UNIT.shift(-1), 'entries'] = np.nan    \n",
    "\n",
    "df['exits'] =  df.cumEXITS.shift(-1) - df.cumEXITS\n",
    "df.loc[df.SCP != df.SCP.shift(-1), 'exits'] = np.nan\n",
    "df.loc[df.UNIT != df.UNIT.shift(-1), 'exits'] = np.nan  \n",
    "\n",
    "\n",
    "df['time'] = pd.to_timedelta(df.TIME).dt.total_seconds() / 3600\n",
    "\n",
    "df['DT'] =  df.datetime.shift(-1) - df.datetime\n",
    "df.loc[df.SCP != df.SCP.shift(-1), 'DT'] = np.nan\n",
    "df.loc[df.UNIT != df.UNIT.shift(-1), 'DT'] = np.nan\n",
    "\n",
    "\n",
    "df2 = df[['UNIT', 'SCP', 'datetime', \n",
    "       'cumENTRIES', 'cumEXITS', 'entries', 'exits', 'time', 'DT']].copy()"
   ]
  },
  {
   "cell_type": "code",
   "execution_count": null,
   "metadata": {
    "collapsed": true
   },
   "outputs": [],
   "source": [
    "df.head()"
   ]
  },
  {
   "cell_type": "code",
   "execution_count": null,
   "metadata": {
    "collapsed": true
   },
   "outputs": [],
   "source": [
    "def readAllFilesOldFormat(mta_urls, out_file):\n",
    "    \n",
    "    result = [] \n",
    "    \n",
    "    for url in mta_urls:\n",
    "\n",
    "        try: \n",
    "            \n",
    "            filename = wget.download(url)\n",
    "            print(filename)\n",
    "            \n",
    "            df = pd.read_csv(filename, header=0, names=columns2)\n",
    "            \n",
    "            result = [] \n",
    "\n",
    "            for i in range(1, 9):\n",
    "\n",
    "                cols = [u'UNIT', u'SCP',  u'DATE%d' % i, u'TIME%d' % i , u'ENTRIES%d' % i, u'EXITS%d' % i]\n",
    "                tmp = df[cols].copy() \n",
    "                tmp.columns = ['UNIT', 'SCP', 'DATE', 'TIME', 'cumENTRIES', 'cumEXITS']\n",
    "\n",
    "                result.append(tmp)\n",
    "\n",
    "            result = pd.concat(result)\n",
    "\n",
    "            df = result \n",
    "\n",
    "            df['datetime'] = pd.to_datetime(df.DATE) + pd.to_timedelta(df.TIME)\n",
    "\n",
    "            df = df.dropna()\n",
    "            df = df.sort_values(['UNIT', 'SCP', 'datetime'])\n",
    "            df.index = np.arange(df.shape[0])\n",
    "\n",
    "\n",
    "            df['entries'] =  df.cumENTRIES.shift(-1) - df.cumENTRIES\n",
    "            df.loc[df.SCP != df.SCP.shift(-1), 'entries'] = np.nan\n",
    "            df.loc[df.UNIT != df.UNIT.shift(-1), 'entries'] = np.nan    \n",
    "\n",
    "            df['exits'] =  df.cumEXITS.shift(-1) - df.cumEXITS\n",
    "            df.loc[df.SCP != df.SCP.shift(-1), 'exits'] = np.nan\n",
    "            df.loc[df.UNIT != df.UNIT.shift(-1), 'exits'] = np.nan  \n",
    "\n",
    "\n",
    "            df['time'] = pd.to_timedelta(df.TIME).dt.total_seconds() / 3600\n",
    "\n",
    "            df['DT'] =  df.datetime.shift(-1) - df.datetime\n",
    "            df.loc[df.SCP != df.SCP.shift(-1), 'DT'] = np.nan\n",
    "            df.loc[df.UNIT != df.UNIT.shift(-1), 'DT'] = np.nan\n",
    "\n",
    "\n",
    "            df2 = df[['UNIT', 'SCP', 'datetime', \n",
    "                   'cumENTRIES', 'cumEXITS', 'entries', 'exits', 'time', 'DT']].copy()\n",
    "            \n",
    "            \n",
    "            df2.to_hdf(out_file,'table',append=True)\n",
    "        \n",
    "        except Exception:\n",
    "            \n",
    "            print(\"ERROR in processing %s\" % filename)\n",
    "            "
   ]
  },
  {
   "cell_type": "code",
   "execution_count": null,
   "metadata": {
    "collapsed": true
   },
   "outputs": [],
   "source": [
    "mta_urls[-1]"
   ]
  },
  {
   "cell_type": "code",
   "execution_count": null,
   "metadata": {
    "collapsed": true
   },
   "outputs": [],
   "source": [
    "readAllFilesOldFormat(mta_urls, '/Users/michailxyntarakis/opendata/mta/turnstile/turnstiles_100605_141025.hdf')"
   ]
  },
  {
   "cell_type": "code",
   "execution_count": null,
   "metadata": {
    "collapsed": true
   },
   "outputs": [],
   "source": [
    "df = pd.read_hdf('/Users/michailxyntarakis/opendata/mta/turnstile/turnstiles_100605_141025.hdf', 'table')"
   ]
  },
  {
   "cell_type": "code",
   "execution_count": null,
   "metadata": {
    "collapsed": true
   },
   "outputs": [],
   "source": [
    "df.info()"
   ]
  },
  {
   "cell_type": "markdown",
   "metadata": {},
   "source": [
    "# Records that go negative "
   ]
  },
  {
   "cell_type": "code",
   "execution_count": null,
   "metadata": {
    "collapsed": true
   },
   "outputs": [],
   "source": [
    "df.head()"
   ]
  },
  {
   "cell_type": "code",
   "execution_count": null,
   "metadata": {
    "collapsed": true
   },
   "outputs": [],
   "source": [
    "df['date'] = df.datetime.dt.date"
   ]
  },
  {
   "cell_type": "code",
   "execution_count": null,
   "metadata": {
    "collapsed": true
   },
   "outputs": [],
   "source": [
    "df[df.entries < 0].shape[0]"
   ]
  },
  {
   "cell_type": "code",
   "execution_count": null,
   "metadata": {
    "collapsed": true
   },
   "outputs": [],
   "source": [
    "df[df.entries > 5000].shape[0]"
   ]
  },
  {
   "cell_type": "code",
   "execution_count": null,
   "metadata": {
    "collapsed": true
   },
   "outputs": [],
   "source": [
    "df[df.entries > 10 ** 5].shape"
   ]
  }
 ],
 "metadata": {
  "kernelspec": {
   "display_name": "Python 3",
   "language": "python",
   "name": "python3"
  },
  "language_info": {
   "codemirror_mode": {
    "name": "ipython",
    "version": 3
   },
   "file_extension": ".py",
   "mimetype": "text/x-python",
   "name": "python",
   "nbconvert_exporter": "python",
   "pygments_lexer": "ipython3",
   "version": "3.6.1"
  }
 },
 "nbformat": 4,
 "nbformat_minor": 2
}
